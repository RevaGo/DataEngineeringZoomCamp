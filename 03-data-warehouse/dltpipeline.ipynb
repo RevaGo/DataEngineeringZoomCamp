{
 "cells": [
  {
   "cell_type": "markdown",
   "metadata": {
    "application/vnd.databricks.v1+cell": {
     "cellMetadata": {},
     "inputWidgets": {},
     "nuid": "b74ada10-9f59-4dd4-b89b-5170def17d04",
     "showTitle": false,
     "tableResultSettingsMap": {},
     "title": ""
    }
   },
   "source": [
    "## Workshop \"Data Ingestion with dlt\": Homework\n",
    "Dataset & API\n",
    "We’ll use NYC Taxi data via the same custom API from the workshop:\n",
    "\n",
    "🔹 Base API URL:\n",
    "\n",
    "https://us-central1-dlthub-analytics.cloudfunctions.net/data_engineering_zoomcamp_api <br>\n",
    "🔹 Data format: Paginated JSON (1,000 records per page). <br>\n",
    "🔹 API Pagination: Stop when an empty page is returned.\n",
    "\n",
    "Question 1: dlt Version\n",
    "Install dlt:"
   ]
  },
  {
   "cell_type": "code",
   "execution_count": null,
   "metadata": {
    "application/vnd.databricks.v1+cell": {
     "cellMetadata": {
      "byteLimit": 2048000,
      "rowLimit": 10000
     },
     "inputWidgets": {},
     "nuid": "3c3b6ce7-af98-4220-99ea-d0fed34e2128",
     "showTitle": false,
     "tableResultSettingsMap": {},
     "title": ""
    }
   },
   "outputs": [
    {
     "name": "stdout",
     "output_type": "stream",
     "text": [
      "Collecting dlt[duckdb]\n",
      "  Downloading dlt-1.6.1-py3-none-any.whl.metadata (11 kB)\n",
      "Requirement already satisfied: PyYAML>=5.4.1 in /databricks/python3/lib/python3.11/site-packages (from dlt[duckdb]) (6.0)\n",
      "Requirement already satisfied: click>=7.1 in /databricks/python3/lib/python3.11/site-packages (from dlt[duckdb]) (8.0.4)\n",
      "Collecting fsspec>=2022.4.0 (from dlt[duckdb])\n",
      "  Downloading fsspec-2025.2.0-py3-none-any.whl.metadata (11 kB)\n",
      "Requirement already satisfied: gitpython>=3.1.29 in /databricks/python3/lib/python3.11/site-packages (from dlt[duckdb]) (3.1.43)\n",
      "Collecting giturlparse>=0.10.0 (from dlt[duckdb])\n",
      "  Downloading giturlparse-0.12.0-py2.py3-none-any.whl.metadata (4.5 kB)\n",
      "Collecting hexbytes>=0.2.2 (from dlt[duckdb])\n",
      "  Downloading hexbytes-1.3.0-py3-none-any.whl.metadata (3.3 kB)\n",
      "Collecting humanize>=4.4.0 (from dlt[duckdb])\n",
      "  Downloading humanize-4.11.0-py3-none-any.whl.metadata (7.8 kB)\n",
      "Collecting jsonpath-ng>=1.5.3 (from dlt[duckdb])\n",
      "  Downloading jsonpath_ng-1.7.0-py3-none-any.whl.metadata (18 kB)\n",
      "Collecting makefun>=1.15.0 (from dlt[duckdb])\n",
      "  Downloading makefun-1.15.6-py2.py3-none-any.whl.metadata (3.2 kB)\n",
      "Collecting orjson!=3.10.1,!=3.9.11,!=3.9.12,!=3.9.13,!=3.9.14,<4,>=3.6.7 (from dlt[duckdb])\n",
      "  Downloading orjson-3.10.15-cp311-cp311-manylinux_2_17_x86_64.manylinux2014_x86_64.whl.metadata (41 kB)\n",
      "Requirement already satisfied: packaging>=21.1 in /databricks/python3/lib/python3.11/site-packages (from dlt[duckdb]) (23.2)\n",
      "Collecting pathvalidate>=2.5.2 (from dlt[duckdb])\n",
      "  Downloading pathvalidate-3.2.3-py3-none-any.whl.metadata (12 kB)\n",
      "Collecting pendulum>=2.1.2 (from dlt[duckdb])\n",
      "  Downloading pendulum-3.0.0-cp311-cp311-manylinux_2_17_x86_64.manylinux2014_x86_64.whl.metadata (6.9 kB)\n",
      "Collecting pluggy>=1.3.0 (from dlt[duckdb])\n",
      "  Downloading pluggy-1.5.0-py3-none-any.whl.metadata (4.8 kB)\n",
      "Requirement already satisfied: pytz>=2022.6 in /databricks/python3/lib/python3.11/site-packages (from dlt[duckdb]) (2022.7)\n",
      "Requirement already satisfied: requests>=2.26.0 in /databricks/python3/lib/python3.11/site-packages (from dlt[duckdb]) (2.31.0)\n",
      "Collecting requirements-parser>=0.5.0 (from dlt[duckdb])\n",
      "  Downloading requirements_parser-0.11.0-py3-none-any.whl.metadata (4.7 kB)\n",
      "Collecting rich-argparse<2.0.0,>=1.6.0 (from dlt[duckdb])\n",
      "  Downloading rich_argparse-1.7.0-py3-none-any.whl.metadata (14 kB)\n",
      "Collecting semver>=3.0.0 (from dlt[duckdb])\n",
      "  Downloading semver-3.0.4-py3-none-any.whl.metadata (6.8 kB)\n",
      "Requirement already satisfied: setuptools>=65.6.0 in /databricks/python3/lib/python3.11/site-packages (from dlt[duckdb]) (75.1.0)\n",
      "Collecting simplejson>=3.17.5 (from dlt[duckdb])\n",
      "  Downloading simplejson-3.19.3-cp311-cp311-manylinux_2_5_x86_64.manylinux1_x86_64.manylinux_2_17_x86_64.manylinux2014_x86_64.whl.metadata (3.2 kB)\n",
      "Requirement already satisfied: tenacity>=8.0.2 in /databricks/python3/lib/python3.11/site-packages (from dlt[duckdb]) (8.2.2)\n",
      "Collecting tomlkit>=0.11.3 (from dlt[duckdb])\n",
      "  Downloading tomlkit-0.13.2-py3-none-any.whl.metadata (2.7 kB)\n",
      "Requirement already satisfied: typing-extensions>=4.8.0 in /databricks/python3/lib/python3.11/site-packages (from dlt[duckdb]) (4.10.0)\n",
      "Requirement already satisfied: tzdata>=2022.1 in /databricks/python3/lib/python3.11/site-packages (from dlt[duckdb]) (2022.1)\n",
      "Collecting duckdb>=0.9 (from dlt[duckdb])\n",
      "  Downloading duckdb-1.2.0-cp311-cp311-manylinux_2_17_x86_64.manylinux2014_x86_64.whl.metadata (966 bytes)\n",
      "Requirement already satisfied: gitdb<5,>=4.0.1 in /databricks/python3/lib/python3.11/site-packages (from gitpython>=3.1.29->dlt[duckdb]) (4.0.11)\n",
      "Collecting ply (from jsonpath-ng>=1.5.3->dlt[duckdb])\n",
      "  Downloading ply-3.11-py2.py3-none-any.whl.metadata (844 bytes)\n",
      "Requirement already satisfied: python-dateutil>=2.6 in /databricks/python3/lib/python3.11/site-packages (from pendulum>=2.1.2->dlt[duckdb]) (2.8.2)\n",
      "Collecting time-machine>=2.6.0 (from pendulum>=2.1.2->dlt[duckdb])\n",
      "  Downloading time_machine-2.16.0-cp311-cp311-manylinux_2_5_x86_64.manylinux1_x86_64.manylinux_2_17_x86_64.manylinux2014_x86_64.whl.metadata (21 kB)\n",
      "Requirement already satisfied: charset-normalizer<4,>=2 in /databricks/python3/lib/python3.11/site-packages (from requests>=2.26.0->dlt[duckdb]) (2.0.4)\n",
      "Requirement already satisfied: idna<4,>=2.5 in /databricks/python3/lib/python3.11/site-packages (from requests>=2.26.0->dlt[duckdb]) (3.4)\n",
      "Requirement already satisfied: urllib3<3,>=1.21.1 in /databricks/python3/lib/python3.11/site-packages (from requests>=2.26.0->dlt[duckdb]) (1.26.16)\n",
      "Requirement already satisfied: certifi>=2017.4.17 in /databricks/python3/lib/python3.11/site-packages (from requests>=2.26.0->dlt[duckdb]) (2023.7.22)\n",
      "Collecting types-setuptools>=69.1.0 (from requirements-parser>=0.5.0->dlt[duckdb])\n",
      "  Downloading types_setuptools-75.8.0.20250210-py3-none-any.whl.metadata (2.2 kB)\n",
      "Collecting rich>=11.0.0 (from rich-argparse<2.0.0,>=1.6.0->dlt[duckdb])\n",
      "  Downloading rich-13.9.4-py3-none-any.whl.metadata (18 kB)\n",
      "Requirement already satisfied: smmap<6,>=3.0.1 in /databricks/python3/lib/python3.11/site-packages (from gitdb<5,>=4.0.1->gitpython>=3.1.29->dlt[duckdb]) (5.0.1)\n",
      "Requirement already satisfied: six>=1.5 in /usr/lib/python3/dist-packages (from python-dateutil>=2.6->pendulum>=2.1.2->dlt[duckdb]) (1.16.0)\n",
      "Collecting markdown-it-py>=2.2.0 (from rich>=11.0.0->rich-argparse<2.0.0,>=1.6.0->dlt[duckdb])\n",
      "  Downloading markdown_it_py-3.0.0-py3-none-any.whl.metadata (6.9 kB)\n",
      "Requirement already satisfied: pygments<3.0.0,>=2.13.0 in /databricks/python3/lib/python3.11/site-packages (from rich>=11.0.0->rich-argparse<2.0.0,>=1.6.0->dlt[duckdb]) (2.15.1)\n",
      "Collecting mdurl~=0.1 (from markdown-it-py>=2.2.0->rich>=11.0.0->rich-argparse<2.0.0,>=1.6.0->dlt[duckdb])\n",
      "  Downloading mdurl-0.1.2-py3-none-any.whl.metadata (1.6 kB)\n",
      "Downloading duckdb-1.2.0-cp311-cp311-manylinux_2_17_x86_64.manylinux2014_x86_64.whl (20.2 MB)\n",
      "\u001b[?25l   \u001b[90m━━━━━━━━━━━━━━━━━━━━━━━━━━━━━━━━━━━━━━━━\u001b[0m \u001b[32m0.0/20.2 MB\u001b[0m \u001b[31m?\u001b[0m eta \u001b[36m-:--:--\u001b[0m\n",
      "\u001b[2K   \u001b[91m━━━━━━━━━━━━━━━━━━━━━━━━━━━━━━━━━━━━━━━\u001b[0m\u001b[91m╸\u001b[0m \u001b[32m19.9/20.2 MB\u001b[0m \u001b[31m109.4 MB/s\u001b[0m eta \u001b[36m0:00:01\u001b[0m\n",
      "\u001b[2K   \u001b[90m━━━━━━━━━━━━━━━━━━━━━━━━━━━━━━━━━━━━━━━━\u001b[0m \u001b[32m20.2/20.2 MB\u001b[0m \u001b[31m88.9 MB/s\u001b[0m eta \u001b[36m0:00:00\u001b[0m\n",
      "\u001b[?25hDownloading fsspec-2025.2.0-py3-none-any.whl (184 kB)\n",
      "Downloading giturlparse-0.12.0-py2.py3-none-any.whl (15 kB)\n",
      "Downloading hexbytes-1.3.0-py3-none-any.whl (4.9 kB)\n",
      "Downloading humanize-4.11.0-py3-none-any.whl (128 kB)\n",
      "Downloading jsonpath_ng-1.7.0-py3-none-any.whl (30 kB)\n",
      "Downloading makefun-1.15.6-py2.py3-none-any.whl (22 kB)\n",
      "Downloading orjson-3.10.15-cp311-cp311-manylinux_2_17_x86_64.manylinux2014_x86_64.whl (130 kB)\n",
      "Downloading pathvalidate-3.2.3-py3-none-any.whl (24 kB)\n",
      "Downloading pendulum-3.0.0-cp311-cp311-manylinux_2_17_x86_64.manylinux2014_x86_64.whl (384 kB)\n",
      "Downloading pluggy-1.5.0-py3-none-any.whl (20 kB)\n",
      "Downloading requirements_parser-0.11.0-py3-none-any.whl (14 kB)\n",
      "Downloading rich_argparse-1.7.0-py3-none-any.whl (25 kB)\n",
      "Downloading semver-3.0.4-py3-none-any.whl (17 kB)\n",
      "Downloading simplejson-3.19.3-cp311-cp311-manylinux_2_5_x86_64.manylinux1_x86_64.manylinux_2_17_x86_64.manylinux2014_x86_64.whl (144 kB)\n",
      "Downloading tomlkit-0.13.2-py3-none-any.whl (37 kB)\n",
      "Downloading dlt-1.6.1-py3-none-any.whl (884 kB)\n",
      "\u001b[?25l   \u001b[90m━━━━━━━━━━━━━━━━━━━━━━━━━━━━━━━━━━━━━━━━\u001b[0m \u001b[32m0.0/884.3 kB\u001b[0m \u001b[31m?\u001b[0m eta \u001b[36m-:--:--\u001b[0m\n",
      "\u001b[2K   \u001b[90m━━━━━━━━━━━━━━━━━━━━━━━━━━━━━━━━━━━━━━━━\u001b[0m \u001b[32m884.3/884.3 kB\u001b[0m \u001b[31m64.2 MB/s\u001b[0m eta \u001b[36m0:00:00\u001b[0m\n",
      "\u001b[?25hDownloading rich-13.9.4-py3-none-any.whl (242 kB)\n",
      "Downloading time_machine-2.16.0-cp311-cp311-manylinux_2_5_x86_64.manylinux1_x86_64.manylinux_2_17_x86_64.manylinux2014_x86_64.whl (32 kB)\n",
      "Downloading types_setuptools-75.8.0.20250210-py3-none-any.whl (71 kB)\n",
      "Downloading ply-3.11-py2.py3-none-any.whl (49 kB)\n",
      "Downloading markdown_it_py-3.0.0-py3-none-any.whl (87 kB)\n",
      "Downloading mdurl-0.1.2-py3-none-any.whl (10.0 kB)\n",
      "Installing collected packages: ply, makefun, types-setuptools, tomlkit, simplejson, semver, pluggy, pathvalidate, orjson, mdurl, jsonpath-ng, humanize, hexbytes, giturlparse, fsspec, duckdb, time-machine, requirements-parser, markdown-it-py, rich, pendulum, rich-argparse, dlt\n",
      "Successfully installed dlt-1.6.1 duckdb-1.2.0 fsspec-2025.2.0 giturlparse-0.12.0 hexbytes-1.3.0 humanize-4.11.0 jsonpath-ng-1.7.0 makefun-1.15.6 markdown-it-py-3.0.0 mdurl-0.1.2 orjson-3.10.15 pathvalidate-3.2.3 pendulum-3.0.0 pluggy-1.5.0 ply-3.11 requirements-parser-0.11.0 rich-13.9.4 rich-argparse-1.7.0 semver-3.0.4 simplejson-3.19.3 time-machine-2.16.0 tomlkit-0.13.2 types-setuptools-75.8.0.20250210\n",
      "\u001b[43mNote: you may need to restart the kernel using %restart_python or dbutils.library.restartPython() to use updated packages.\u001b[0m\n"
     ]
    }
   ],
   "source": [
    " !pip install dlt[duckdb]"
   ]
  },
  {
   "cell_type": "code",
   "execution_count": null,
   "metadata": {
    "application/vnd.databricks.v1+cell": {
     "cellMetadata": {
      "byteLimit": 2048000,
      "rowLimit": 10000
     },
     "inputWidgets": {},
     "nuid": "efffe224-9980-4709-b8ce-4643e14cf5c7",
     "showTitle": false,
     "tableResultSettingsMap": {},
     "title": ""
    }
   },
   "outputs": [],
   "source": [
    "dbutils.library.restartPython() "
   ]
  },
  {
   "cell_type": "code",
   "execution_count": null,
   "metadata": {
    "application/vnd.databricks.v1+cell": {
     "cellMetadata": {
      "byteLimit": 2048000,
      "rowLimit": 10000
     },
     "inputWidgets": {},
     "nuid": "755be648-b2d1-4087-aa01-52c6db0eb613",
     "showTitle": false,
     "tableResultSettingsMap": {},
     "title": ""
    }
   },
   "outputs": [
    {
     "name": "stdout",
     "output_type": "stream",
     "text": [
      "\u001b[39mdlt 1.6.1\u001b[0m\r\n"
     ]
    }
   ],
   "source": [
    "! dlt --version\n"
   ]
  },
  {
   "cell_type": "markdown",
   "metadata": {
    "application/vnd.databricks.v1+cell": {
     "cellMetadata": {},
     "inputWidgets": {},
     "nuid": "0cbb497d-3b92-4587-a68e-70c96dcea792",
     "showTitle": false,
     "tableResultSettingsMap": {},
     "title": ""
    }
   },
   "source": [
    "Answer1 -- The version is '**1.6.1**' <br>\n",
    "\n",
    "Question 2: Define & Run the Pipeline (NYC Taxi API)"
   ]
  },
  {
   "cell_type": "code",
   "execution_count": null,
   "metadata": {
    "application/vnd.databricks.v1+cell": {
     "cellMetadata": {
      "byteLimit": 2048000,
      "rowLimit": 10000
     },
     "inputWidgets": {},
     "nuid": "054aef8e-3fb9-4115-8743-37539158549d",
     "showTitle": false,
     "tableResultSettingsMap": {},
     "title": ""
    }
   },
   "outputs": [
    {
     "name": "stderr",
     "output_type": "stream",
     "text": [
      "Unexpected internal error when monkey patching dlt module: cannot import name 'overrides' from partially initialized module 'dlt' (most likely due to a circular import) (/local_disk0/.ephemeral_nfs/envs/pythonEnv-fbfb5295-9e85-460d-9b5b-73e278cb4f2b/lib/python3.11/site-packages/dlt/__init__.py)\n"
     ]
    },
    {
     "name": "stdout",
     "output_type": "stream",
     "text": [
      "[{'End_Lat': 40.742963, 'End_Lon': -73.980072, 'Fare_Amt': 45.0, 'Passenger_Count': 1, 'Payment_Type': 'Credit', 'Rate_Code': None, 'Start_Lat': 40.641525, 'Start_Lon': -73.787442, 'Tip_Amt': 9.0, 'Tolls_Amt': 4.15, 'Total_Amt': 58.15, 'Trip_Distance': 17.52, 'Trip_Dropoff_DateTime': '2009-06-14 23:48:00', 'Trip_Pickup_DateTime': '2009-06-14 23:23:00', 'mta_tax': None, 'store_and_forward': None, 'surcharge': 0.0, 'vendor_name': 'VTS'}, {'End_Lat': 40.740187, 'End_Lon': -74.005698, 'Fare_Amt': 6.5, 'Passenger_Count': 1, 'Payment_Type': 'Credit', 'Rate_Code': None, 'Start_Lat': 40.722065, 'Start_Lon': -74.009767, 'Tip_Amt': 1.0, 'Tolls_Amt': 0.0, 'Total_Amt': 8.5, 'Trip_Distance': 1.56, 'Trip_Dropoff_DateTime': '2009-06-18 17:43:00', 'Trip_Pickup_DateTime': '2009-06-18 17:35:00', 'mta_tax': None, 'store_and_forward': None, 'surcharge': 1.0, 'vendor_name': 'VTS'}, {'End_Lat': 40.718043, 'End_Lon': -74.004745, 'Fare_Amt': 12.5, 'Passenger_Count': 5, 'Payment_Type': 'Credit', 'Rate_Code': None, 'Start_Lat': 40.761945, 'Start_Lon': -73.983038, 'Tip_Amt': 2.0, 'Tolls_Amt': 0.0, 'Total_Amt': 15.5, 'Trip_Distance': 3.37, 'Trip_Dropoff_DateTime': '2009-06-10 18:27:00', 'Trip_Pickup_DateTime': '2009-06-10 18:08:00', 'mta_tax': None, 'store_and_forward': None, 'surcharge': 1.0, 'vendor_name': 'VTS'}, {'End_Lat': 40.739637, 'End_Lon': -73.985233, 'Fare_Amt': 4.9, 'Passenger_Count': 1, 'Payment_Type': 'CASH', 'Rate_Code': None, 'Start_Lat': 40.749802, 'Start_Lon': -73.992247, 'Tip_Amt': 0.0, 'Tolls_Amt': 0.0, 'Total_Amt': 5.4, 'Trip_Distance': 1.11, 'Trip_Dropoff_DateTime': '2009-06-14 23:58:00', 'Trip_Pickup_DateTime': '2009-06-14 23:54:00', 'mta_tax': None, 'store_and_forward': None, 'surcharge': 0.5, 'vendor_name': 'VTS'}, {'End_Lat': 40.730032, 'End_Lon': -73.852693, 'Fare_Amt': 25.7, 'Passenger_Count': 1, 'Payment_Type': 'CASH', 'Rate_Code': None, 'Start_Lat': 40.776825, 'Start_Lon': -73.949233, 'Tip_Amt': 0.0, 'Tolls_Amt': 4.15, 'Total_Amt': 29.85, 'Trip_Distance': 11.09, 'Trip_Dropoff_DateTime': '2009-06-13 13:23:00', 'Trip_Pickup_DateTime': '2009-06-13 13:01:00', 'mta_tax': None, 'store_and_forward': None, 'surcharge': 0.0, 'vendor_name': 'VTS'}, {'End_Lat': 40.777537, 'End_Lon': -73.97686, 'Fare_Amt': 7.3, 'Passenger_Count': 2, 'Payment_Type': 'Credit', 'Rate_Code': None, 'Start_Lat': 40.790582, 'Start_Lon': -73.953652, 'Tip_Amt': 2.0, 'Tolls_Amt': 0.0, 'Total_Amt': 10.3, 'Trip_Distance': 2.1, 'Trip_Dropoff_DateTime': '2009-06-10 19:52:00', 'Trip_Pickup_DateTime': '2009-06-10 19:43:00', 'mta_tax': None, 'store_and_forward': None, 'surcharge': 1.0, 'vendor_name': 'VTS'}, {'End_Lat': 40.770277, 'End_Lon': -73.962125, 'Fare_Amt': 3.7, 'Passenger_Count': 1, 'Payment_Type': 'Credit', 'Rate_Code': None, 'Start_Lat': 40.767147, 'Start_Lon': -73.966408, 'Tip_Amt': 1.0, 'Tolls_Amt': 0.0, 'Total_Amt': 5.2, 'Trip_Distance': 0.4, 'Trip_Dropoff_DateTime': '2009-06-10 20:09:00', 'Trip_Pickup_DateTime': '2009-06-10 20:06:00', 'mta_tax': None, 'store_and_forward': None, 'surcharge': 0.5, 'vendor_name': 'VTS'}, {'End_Lat': 40.774043, 'End_Lon': -73.951465, 'Fare_Amt': 8.1, 'Passenger_Count': 2, 'Payment_Type': 'CASH', 'Rate_Code': None, 'Start_Lat': 40.76175, 'Start_Lon': -73.977773, 'Tip_Amt': 0.0, 'Tolls_Amt': 0.0, 'Total_Amt': 8.6, 'Trip_Distance': 2.24, 'Trip_Dropoff_DateTime': '2009-06-14 21:08:00', 'Trip_Pickup_DateTime': '2009-06-14 20:57:00', 'mta_tax': None, 'store_and_forward': None, 'surcharge': 0.5, 'vendor_name': 'VTS'}, {'End_Lat': 40.777985, 'End_Lon': -73.943683, 'Fare_Amt': 6.1, 'Passenger_Count': 1, 'Payment_Type': 'CASH', 'Rate_Code': None, 'Start_Lat': 40.766355, 'Start_Lon': -73.959832, 'Tip_Amt': 0.0, 'Tolls_Amt': 0.0, 'Total_Amt': 6.1, 'Trip_Distance': 1.48, 'Trip_Dropoff_DateTime': '2009-06-14 12:56:00', 'Trip_Pickup_DateTime': '2009-06-14 12:49:00', 'mta_tax': None, 'store_and_forward': None, 'surcharge': 0.0, 'vendor_name': 'VTS'}, {'End_Lat': 40.720052, 'End_Lon': -74.009823, 'Fare_Amt': 8.9, 'Passenger_Count': 1, 'Payment_Type': 'CASH', 'Rate_Code': None, 'Start_Lat': 40.751327, 'Start_Lon': -73.987588, 'Tip_Amt': 0.0, 'Tolls_Amt': 0.0, 'Total_Amt': 9.9, 'Trip_Distance': 2.72, 'Trip_Dropoff_DateTime': '2009-06-10 18:13:00', 'Trip_Pickup_DateTime': '2009-06-10 18:03:00', 'mta_tax': None, 'store_and_forward': None, 'surcharge': 1.0, 'vendor_name': 'VTS'}, {'End_Lat': 40.758588, 'End_Lon': -73.981827, 'Fare_Amt': 4.1, 'Passenger_Count': 5, 'Payment_Type': 'CASH', 'Rate_Code': None, 'Start_Lat': 40.764112, 'Start_Lon': -73.98861, 'Tip_Amt': 0.0, 'Tolls_Amt': 0.0, 'Total_Amt': 4.1, 'Trip_Distance': 0.69, 'Trip_Dropoff_DateTime': '2009-06-14 11:27:00', 'Trip_Pickup_DateTime': '2009-06-14 11:24:00', 'mta_tax': None, 'store_and_forward': None, 'surcharge': 0.0, 'vendor_name': 'VTS'}, {'End_Lat': 40.727343, 'End_Lon': -73.993425, 'Fare_Amt': 2.5, 'Passenger_Count': 4, 'Payment_Type': 'Credit', 'Rate_Code': None, 'Start_Lat': 40.727343, 'Start_Lon': -73.993425, 'Tip_Amt': 4.0, 'Tolls_Amt': 0.0, 'Total_Amt': 6.5, 'Trip_Distance': 0.0, 'Trip_Dropoff_DateTime': '2009-06-13 19:17:00', 'Trip_Pickup_DateTime': '2009-06-13 19:17:00', 'mta_tax': None, 'store_and_forward': None, 'surcharge': 0.0, 'vendor_name': 'VTS'}, {'End_Lat': 40.763403, 'End_Lon': -73.982693, 'Fare_Amt': 2.9, 'Passenger_Count': 1, 'Payment_Type': 'CASH', 'Rate_Code': None, 'Start_Lat': 40.763875, 'Start_Lon': -73.982592, 'Tip_Amt': 0.0, 'Tolls_Amt': 0.0, 'Total_Amt': 3.9, 'Trip_Distance': 0.05, 'Trip_Dropoff_DateTime': '2009-06-10 19:39:00', 'Trip_Pickup_DateTime': '2009-06-10 19:38:00', 'mta_tax': None, 'store_and_forward': None, 'surcharge': 1.0, 'vendor_name': 'VTS'}, {'End_Lat': 40.881595, 'End_Lon': -73.864513, 'Fare_Amt': 33.3, 'Passenger_Count': 2, 'Payment_Type': 'CASH', 'Rate_Code': None, 'Start_Lat': 40.759188, 'Start_Lon': -73.992023, 'Tip_Amt': 0.0, 'Tolls_Amt': 0.0, 'Total_Amt': 33.8, 'Trip_Distance': 14.86, 'Trip_Dropoff_DateTime': '2009-06-14 03:00:00', 'Trip_Pickup_DateTime': '2009-06-14 02:34:00', 'mta_tax': None, 'store_and_forward': None, 'surcharge': 0.5, 'vendor_name': 'VTS'}, {'End_Lat': 40.741075, 'End_Lon': -73.986537, 'Fare_Amt': 4.1, 'Passenger_Count': 5, 'Payment_Type': 'CASH', 'Rate_Code': None, 'Start_Lat': 40.752078, 'Start_Lon': -73.9786, 'Tip_Amt': 0.0, 'Tolls_Amt': 0.0, 'Total_Amt': 4.1, 'Trip_Distance': 0.88, 'Trip_Dropoff_DateTime': '2009-06-16 12:59:00', 'Trip_Pickup_DateTime': '2009-06-16 12:56:00', 'mta_tax': None, 'store_and_forward': None, 'surcharge': 0.0, 'vendor_name': 'VTS'}, {'End_Lat': 40.728683, 'End_Lon': -73.981595, 'Fare_Amt': 11.7, 'Passenger_Count': 1, 'Payment_Type': 'Credit', 'Rate_Code': None, 'Start_Lat': 40.75907, 'Start_Lon': -73.984905, 'Tip_Amt': 4.0, 'Tolls_Amt': 0.0, 'Total_Amt': 15.7, 'Trip_Distance': 2.82, 'Trip_Dropoff_DateTime': '2009-06-16 12:58:00', 'Trip_Pickup_DateTime': '2009-06-16 12:39:00', 'mta_tax': None, 'store_and_forward': None, 'surcharge': 0.0, 'vendor_name': 'VTS'}, {'End_Lat': 40.745173, 'End_Lon': -73.998107, 'Fare_Amt': 10.1, 'Passenger_Count': 1, 'Payment_Type': 'CASH', 'Rate_Code': None, 'Start_Lat': 40.76032, 'Start_Lon': -73.964637, 'Tip_Amt': 0.0, 'Tolls_Amt': 0.0, 'Total_Amt': 10.6, 'Trip_Distance': 2.83, 'Trip_Dropoff_DateTime': '2009-06-15 20:18:00', 'Trip_Pickup_DateTime': '2009-06-15 20:05:00', 'mta_tax': None, 'store_and_forward': None, 'surcharge': 0.5, 'vendor_name': 'VTS'}, {'End_Lat': 40.779377, 'End_Lon': -73.987643, 'Fare_Amt': 9.7, 'Passenger_Count': 1, 'Payment_Type': 'CASH', 'Rate_Code': None, 'Start_Lat': 40.761615, 'Start_Lon': -73.966648, 'Tip_Amt': 0.0, 'Tolls_Amt': 0.0, 'Total_Amt': 9.7, 'Trip_Distance': 2.08, 'Trip_Dropoff_DateTime': '2009-06-16 12:59:00', 'Trip_Pickup_DateTime': '2009-06-16 12:44:00', 'mta_tax': None, 'store_and_forward': None, 'surcharge': 0.0, 'vendor_name': 'VTS'}, {'End_Lat': 40.761275, 'End_Lon': -73.972752, 'Fare_Amt': 7.7, 'Passenger_Count': 2, 'Payment_Type': 'CASH', 'Rate_Code': None, 'Start_Lat': 40.752203, 'Start_Lon': -73.97372, 'Tip_Amt': 0.0, 'Tolls_Amt': 0.0, 'Total_Amt': 8.7, 'Trip_Distance': 0.8, 'Trip_Dropoff_DateTime': '2009-06-10 18:10:00', 'Trip_Pickup_DateTime': '2009-06-10 17:57:00', 'mta_tax': None, 'store_and_forward': None, 'surcharge': 1.0, 'vendor_name': 'VTS'}, {'End_Lat': 40.749855, 'End_Lon': -73.993482, 'Fare_Amt': 4.5, 'Passenger_Count': 1, 'Payment_Type': 'Credit', 'Rate_Code': None, 'Start_Lat': 40.754173, 'Start_Lon': -73.993775, 'Tip_Amt': 1.0, 'Tolls_Amt': 0.0, 'Total_Amt': 5.5, 'Trip_Distance': 0.58, 'Trip_Dropoff_DateTime': '2009-06-14 17:58:00', 'Trip_Pickup_DateTime': '2009-06-14 17:53:00', 'mta_tax': None, 'store_and_forward': None, 'surcharge': 0.0, 'vendor_name': 'VTS'}, {'End_Lat': 40.741707, 'End_Lon': -74.004725, 'Fare_Amt': 3.7, 'Passenger_Count': 2, 'Payment_Type': 'CASH', 'Rate_Code': None, 'Start_Lat': 40.74109, 'Start_Lon': -73.99796, 'Tip_Amt': 0.0, 'Tolls_Amt': 0.0, 'Total_Amt': 3.7, 'Trip_Distance': 0.48, 'Trip_Dropoff_DateTime': '2009-06-14 11:19:00', 'Trip_Pickup_DateTime': '2009-06-14 11:16:00', 'mta_tax': None, 'store_and_forward': None, 'surcharge': 0.0, 'vendor_name': 'VTS'}, {'End_Lat': 40.761607, 'End_Lon': -73.969057, 'Fare_Amt': 6.5, 'Passenger_Count': 1, 'Payment_Type': 'CASH', 'Rate_Code': None, 'Start_Lat': 40.754082, 'Start_Lon': -73.96608, 'Tip_Amt': 0.0, 'Tolls_Amt': 0.0, 'Total_Amt': 7.5, 'Trip_Distance': 0.9, 'Trip_Dropoff_DateTime': '2009-06-18 17:11:00', 'Trip_Pickup_DateTime': '2009-06-18 17:02:00', 'mta_tax': None, 'store_and_forward': None, 'surcharge': 1.0, 'vendor_name': 'VTS'}, {'End_Lat': 40.7641, 'End_Lon': -73.98259, 'Fare_Amt': 6.1, 'Passenger_Count': 5, 'Payment_Type': 'CASH', 'Rate_Code': None, 'Start_Lat': 40.742647, 'Start_Lon': -73.993013, 'Tip_Amt': 0.0, 'Tolls_Amt': 0.0, 'Total_Amt': 6.1, 'Trip_Distance': 1.81, 'Trip_Dropoff_DateTime': '2009-06-14 19:09:00', 'Trip_Pickup_DateTime': '2009-06-14 19:04:00', 'mta_tax': None, 'store_and_forward': None, 'surcharge': 0.0, 'vendor_name': 'VTS'}, {'End_Lat': 40.772295, 'End_Lon': -73.96665, 'Fare_Amt': 3.3, 'Passenger_Count': 5, 'Payment_Type': 'CASH', 'Rate_Code': None, 'Start_Lat': 40.769087, 'Start_Lon': -73.965202, 'Tip_Amt': 0.0, 'Tolls_Amt': 0.0, 'Total_Amt': 4.3, 'Trip_Distance': 0.32, 'Trip_Dropoff_DateTime': '2009-06-15 19:19:00', 'Trip_Pickup_DateTime': '2009-06-15 19:17:00', 'mta_tax': None, 'store_and_forward': None, 'surcharge': 1.0, 'vendor_name': 'VTS'}, {'End_Lat': 40.756328, 'End_Lon': -73.964167, 'Fare_Amt': 9.7, 'Passenger_Count': 1, 'Payment_Type': 'Credit', 'Rate_Code': None, 'Start_Lat': 40.750137, 'Start_Lon': -73.99092, 'Tip_Amt': 2.0, 'Tolls_Amt': 0.0, 'Total_Amt': 12.7, 'Trip_Distance': 2.18, 'Trip_Dropoff_DateTime': '2009-06-10 19:28:00', 'Trip_Pickup_DateTime': '2009-06-10 19:13:00', 'mta_tax': None, 'store_and_forward': None, 'surcharge': 1.0, 'vendor_name': 'VTS'}, {'End_Lat': 40.739487, 'End_Lon': -73.999645, 'Fare_Amt': 5.7, 'Passenger_Count': 1, 'Payment_Type': 'CASH', 'Rate_Code': None, 'Start_Lat': 40.752395, 'Start_Lon': -74.004405, 'Tip_Amt': 0.0, 'Tolls_Amt': 0.0, 'Total_Amt': 6.2, 'Trip_Distance': 1.35, 'Trip_Dropoff_DateTime': '2009-06-10 20:09:00', 'Trip_Pickup_DateTime': '2009-06-10 20:03:00', 'mta_tax': None, 'store_and_forward': None, 'surcharge': 0.5, 'vendor_name': 'VTS'}, {'End_Lat': 40.714525, 'End_Lon': -73.997617, 'Fare_Amt': 4.9, 'Passenger_Count': 1, 'Payment_Type': 'CASH', 'Rate_Code': None, 'Start_Lat': 40.72343, 'Start_Lon': -74.007843, 'Tip_Amt': 0.0, 'Tolls_Amt': 0.0, 'Total_Amt': 5.4, 'Trip_Distance': 0.95, 'Trip_Dropoff_DateTime': '2009-06-12 01:17:00', 'Trip_Pickup_DateTime': '2009-06-12 01:13:00', 'mta_tax': None, 'store_and_forward': None, 'surcharge': 0.5, 'vendor_name': 'VTS'}, {'End_Lat': 40.747393, 'End_Lon': -74.003257, 'Fare_Amt': 5.7, 'Passenger_Count': 1, 'Payment_Type': 'CASH', 'Rate_Code': None, 'Start_Lat': 40.751342, 'Start_Lon': -73.993282, 'Tip_Amt': 0.0, 'Tolls_Amt': 0.0, 'Total_Amt': 5.7, 'Trip_Distance': 0.78, 'Trip_Dropoff_DateTime': '2009-06-16 12:16:00', 'Trip_Pickup_DateTime': '2009-06-16 12:08:00', 'mta_tax': None, 'store_and_forward': None, 'surcharge': 0.0, 'vendor_name': 'VTS'}, {'End_Lat': 40.736473, 'End_Lon': -73.978778, 'Fare_Amt': 10.5, 'Passenger_Count': 2, 'Payment_Type': 'CASH', 'Rate_Code': None, 'Start_Lat': 40.71557, 'Start_Lon': -74.01102, 'Tip_Amt': 0.0, 'Tolls_Amt': 0.0, 'Total_Amt': 11.0, 'Trip_Distance': 3.17, 'Trip_Dropoff_DateTime': '2009-06-11 22:40:00', 'Trip_Pickup_DateTime': '2009-06-11 22:26:00', 'mta_tax': None, 'store_and_forward': None, 'surcharge': 0.5, 'vendor_name': 'VTS'}, {'End_Lat': 40.759115, 'End_Lon': -73.97897, 'Fare_Amt': 5.7, 'Passenger_Count': 1, 'Payment_Type': 'CASH', 'Rate_Code': None, 'Start_Lat': 40.756065, 'Start_Lon': -73.9911, 'Tip_Amt': 0.0, 'Tolls_Amt': 0.0, 'Total_Amt': 6.2, 'Trip_Distance': 0.94, 'Trip_Dropoff_DateTime': '2009-06-11 22:51:00', 'Trip_Pickup_DateTime': '2009-06-11 22:44:00', 'mta_tax': None, 'store_and_forward': None, 'surcharge': 0.5, 'vendor_name': 'VTS'}, {'End_Lat': 40.758668, 'End_Lon': -73.990978, 'Fare_Amt': 15.7, 'Passenger_Count': 2, 'Payment_Type': 'Credit', 'Rate_Code': None, 'Start_Lat': 40.758737, 'Start_Lon': -73.919247, 'Tip_Amt': 3.92, 'Tolls_Amt': 0.0, 'Total_Amt': 19.62, 'Trip_Distance': 5.04, 'Trip_Dropoff_DateTime': '2009-06-14 14:48:00', 'Trip_Pickup_DateTime': '2009-06-14 14:27:00', 'mta_tax': None, 'store_and_forward': None, 'surcharge': 0.0, 'vendor_name': 'VTS'}, {'End_Lat': 40.717167, 'End_Lon': -73.99879, 'Fare_Amt': 5.3, 'Passenger_Count': 2, 'Payment_Type': 'CASH', 'Rate_Code': None, 'Start_Lat': 40.719118, 'Start_Lon': -74.008793, 'Tip_Amt': 0.0, 'Tolls_Amt': 0.0, 'Total_Amt': 5.8, 'Trip_Distance': 0.95, 'Trip_Dropoff_DateTime': '2009-06-11 23:10:00', 'Trip_Pickup_DateTime': '2009-06-11 23:04:00', 'mta_tax': None, 'store_and_forward': None, 'surcharge': 0.5, 'vendor_name': 'VTS'}, {'End_Lat': 40.728728, 'End_Lon': -74.007225, 'Fare_Amt': 9.3, 'Passenger_Count': 1, 'Payment_Type': 'CASH', 'Rate_Code': None, 'Start_Lat': 40.75745, 'Start_Lon': -73.985397, 'Tip_Amt': 0.0, 'Tolls_Amt': 0.0, 'Total_Amt': 10.3, 'Trip_Distance': 2.35, 'Trip_Dropoff_DateTime': '2009-06-18 16:21:00', 'Trip_Pickup_DateTime': '2009-06-18 16:08:00', 'mta_tax': None, 'store_and_forward': None, 'surcharge': 1.0, 'vendor_name': 'VTS'}, {'End_Lat': 40.752195, 'End_Lon': -73.977895, 'Fare_Amt': 2.5, 'Passenger_Count': 1, 'Payment_Type': 'CASH', 'Rate_Code': None, 'Start_Lat': 40.752195, 'Start_Lon': -73.977895, 'Tip_Amt': 0.0, 'Tolls_Amt': 0.0, 'Total_Amt': 3.5, 'Trip_Distance': 0.0, 'Trip_Dropoff_DateTime': '2009-06-10 18:49:00', 'Trip_Pickup_DateTime': '2009-06-10 18:48:00', 'mta_tax': None, 'store_and_forward': None, 'surcharge': 1.0, 'vendor_name': 'VTS'}, {'End_Lat': 40.763517, 'End_Lon': -73.965395, 'Fare_Amt': 4.5, 'Passenger_Count': 1, 'Payment_Type': 'CASH', 'Rate_Code': None, 'Start_Lat': 40.75727, 'Start_Lon': -73.97007, 'Tip_Amt': 0.0, 'Tolls_Amt': 0.0, 'Total_Amt': 5.5, 'Trip_Distance': 0.57, 'Trip_Dropoff_DateTime': '2009-06-18 16:17:00', 'Trip_Pickup_DateTime': '2009-06-18 16:12:00', 'mta_tax': None, 'store_and_forward': None, 'surcharge': 1.0, 'vendor_name': 'VTS'}, {'End_Lat': 40.64393, 'End_Lon': -73.782998, 'Fare_Amt': 45.0, 'Passenger_Count': 2, 'Payment_Type': 'CASH', 'Rate_Code': None, 'Start_Lat': 40.758123, 'Start_Lon': -73.989907, 'Tip_Amt': 0.0, 'Tolls_Amt': 5.0, 'Total_Amt': 50.0, 'Trip_Distance': 16.91, 'Trip_Dropoff_DateTime': '2009-06-18 16:24:00', 'Trip_Pickup_DateTime': '2009-06-18 15:15:00', 'mta_tax': None, 'store_and_forward': None, 'surcharge': 0.0, 'vendor_name': 'VTS'}, {'End_Lat': 40.731338, 'End_Lon': -74.005428, 'Fare_Amt': 9.3, 'Passenger_Count': 2, 'Payment_Type': 'CASH', 'Rate_Code': None, 'Start_Lat': 40.744898, 'Start_Lon': -73.980695, 'Tip_Amt': 0.0, 'Tolls_Amt': 0.0, 'Total_Amt': 9.3, 'Trip_Distance': 2.11, 'Trip_Dropoff_DateTime': '2009-06-18 15:18:00', 'Trip_Pickup_DateTime': '2009-06-18 15:02:00', 'mta_tax': None, 'store_and_forward': None, 'surcharge': 0.0, 'vendor_name': 'VTS'}, {'End_Lat': 40.716315, 'End_Lon': -74.012675, 'Fare_Amt': 8.9, 'Passenger_Count': 2, 'Payment_Type': 'CASH', 'Rate_Code': None, 'Start_Lat': 40.7299, 'Start_Lon': -74.004068, 'Tip_Amt': 0.0, 'Tolls_Amt': 0.0, 'Total_Amt': 9.9, 'Trip_Distance': 1.71, 'Trip_Dropoff_DateTime': '2009-06-10 18:19:00', 'Trip_Pickup_DateTime': '2009-06-10 18:06:00', 'mta_tax': None, 'store_and_forward': None, 'surcharge': 1.0, 'vendor_name': 'VTS'}, {'End_Lat': 40.74886, 'End_Lon': -73.988012, 'Fare_Amt': 6.9, 'Passenger_Count': 1, 'Payment_Type': 'Credit', 'Rate_Code': None, 'Start_Lat': 40.728555, 'Start_Lon': -73.999718, 'Tip_Amt': 2.0, 'Tolls_Amt': 0.0, 'Total_Amt': 9.4, 'Trip_Distance': 1.88, 'Trip_Dropoff_DateTime': '2009-06-12 01:28:00', 'Trip_Pickup_DateTime': '2009-06-12 01:20:00', 'mta_tax': None, 'store_and_forward': None, 'surcharge': 0.5, 'vendor_name': 'VTS'}, {'End_Lat': 40.7801, 'End_Lon': -73.950063, 'Fare_Amt': 4.5, 'Passenger_Count': 1, 'Payment_Type': 'CASH', 'Rate_Code': None, 'Start_Lat': 40.78218, 'Start_Lon': -73.957393, 'Tip_Amt': 0.0, 'Tolls_Amt': 0.0, 'Total_Amt': 5.5, 'Trip_Distance': 0.51, 'Trip_Dropoff_DateTime': '2009-06-10 18:12:00', 'Trip_Pickup_DateTime': '2009-06-10 18:07:00', 'mta_tax': None, 'store_and_forward': None, 'surcharge': 1.0, 'vendor_name': 'VTS'}, {'End_Lat': 40.805542, 'End_Lon': -73.961878, 'Fare_Amt': 12.9, 'Passenger_Count': 1, 'Payment_Type': 'CASH', 'Rate_Code': None, 'Start_Lat': 40.757243, 'Start_Lon': -73.969688, 'Tip_Amt': 0.0, 'Tolls_Amt': 0.0, 'Total_Amt': 13.9, 'Trip_Distance': 4.33, 'Trip_Dropoff_DateTime': '2009-06-15 19:23:00', 'Trip_Pickup_DateTime': '2009-06-15 19:06:00', 'mta_tax': None, 'store_and_forward': None, 'surcharge': 1.0, 'vendor_name': 'VTS'}, {'End_Lat': 40.752172, 'End_Lon': -73.971932, 'Fare_Amt': 4.9, 'Passenger_Count': 5, 'Payment_Type': 'CASH', 'Rate_Code': None, 'Start_Lat': 40.755125, 'Start_Lon': -73.983062, 'Tip_Amt': 0.0, 'Tolls_Amt': 0.0, 'Total_Amt': 5.4, 'Trip_Distance': 0.9, 'Trip_Dropoff_DateTime': '2009-06-12 01:51:00', 'Trip_Pickup_DateTime': '2009-06-12 01:46:00', 'mta_tax': None, 'store_and_forward': None, 'surcharge': 0.5, 'vendor_name': 'VTS'}, {'End_Lat': 40.687622, 'End_Lon': -73.95763, 'Fare_Amt': 10.5, 'Passenger_Count': 1, 'Payment_Type': 'Credit', 'Rate_Code': None, 'Start_Lat': 40.693903, 'Start_Lon': -73.992148, 'Tip_Amt': 2.0, 'Tolls_Amt': 0.0, 'Total_Amt': 13.0, 'Trip_Distance': 3.05, 'Trip_Dropoff_DateTime': '2009-06-12 00:56:00', 'Trip_Pickup_DateTime': '2009-06-12 00:42:00', 'mta_tax': None, 'store_and_forward': None, 'surcharge': 0.5, 'vendor_name': 'VTS'}, {'End_Lat': 40.766405, 'End_Lon': -73.9886, 'Fare_Amt': 7.7, 'Passenger_Count': 5, 'Payment_Type': 'CASH', 'Rate_Code': None, 'Start_Lat': 40.750982, 'Start_Lon': -73.991153, 'Tip_Amt': 0.0, 'Tolls_Amt': 0.0, 'Total_Amt': 7.7, 'Trip_Distance': 0.03, 'Trip_Dropoff_DateTime': '2009-06-16 11:37:00', 'Trip_Pickup_DateTime': '2009-06-16 11:23:00', 'mta_tax': None, 'store_and_forward': None, 'surcharge': 0.0, 'vendor_name': 'VTS'}, {'End_Lat': 40.76286, 'End_Lon': -73.984875, 'Fare_Amt': 11.7, 'Passenger_Count': 2, 'Payment_Type': 'CASH', 'Rate_Code': None, 'Start_Lat': 40.71895, 'Start_Lon': -74.008722, 'Tip_Amt': 0.0, 'Tolls_Amt': 0.0, 'Total_Amt': 12.2, 'Trip_Distance': 3.37, 'Trip_Dropoff_DateTime': '2009-06-14 01:09:00', 'Trip_Pickup_DateTime': '2009-06-14 00:53:00', 'mta_tax': None, 'store_and_forward': None, 'surcharge': 0.5, 'vendor_name': 'VTS'}, {'End_Lat': 40.782977, 'End_Lon': -73.97378, 'Fare_Amt': 10.5, 'Passenger_Count': 1, 'Payment_Type': 'CASH', 'Rate_Code': None, 'Start_Lat': 40.751155, 'Start_Lon': -73.9943, 'Tip_Amt': 0.0, 'Tolls_Amt': 0.0, 'Total_Amt': 10.5, 'Trip_Distance': 2.6, 'Trip_Dropoff_DateTime': '2009-06-14 15:29:00', 'Trip_Pickup_DateTime': '2009-06-14 15:14:00', 'mta_tax': None, 'store_and_forward': None, 'surcharge': 0.0, 'vendor_name': 'VTS'}, {'End_Lat': 40.768777, 'End_Lon': -73.967463, 'Fare_Amt': 5.7, 'Passenger_Count': 1, 'Payment_Type': 'CASH', 'Rate_Code': None, 'Start_Lat': 40.77084, 'Start_Lon': -73.9823, 'Tip_Amt': 0.0, 'Tolls_Amt': 0.0, 'Total_Amt': 5.7, 'Trip_Distance': 1.26, 'Trip_Dropoff_DateTime': '2009-06-16 11:33:00', 'Trip_Pickup_DateTime': '2009-06-16 11:26:00', 'mta_tax': None, 'store_and_forward': None, 'surcharge': 0.0, 'vendor_name': 'VTS'}, {'End_Lat': 40.716892, 'End_Lon': -74.01236, 'Fare_Amt': 18.9, 'Passenger_Count': 1, 'Payment_Type': 'CASH', 'Rate_Code': None, 'Start_Lat': 40.762633, 'Start_Lon': -73.970215, 'Tip_Amt': 0.0, 'Tolls_Amt': 0.0, 'Total_Amt': 19.9, 'Trip_Distance': 7.28, 'Trip_Dropoff_DateTime': '2009-06-15 19:42:00', 'Trip_Pickup_DateTime': '2009-06-15 19:24:00', 'mta_tax': None, 'store_and_forward': None, 'surcharge': 1.0, 'vendor_name': 'VTS'}, {'End_Lat': 40.757157, 'End_Lon': -73.98138, 'Fare_Amt': 4.1, 'Passenger_Count': 5, 'Payment_Type': 'CASH', 'Rate_Code': None, 'Start_Lat': 40.760952, 'Start_Lon': -73.989045, 'Tip_Amt': 0.0, 'Tolls_Amt': 0.0, 'Total_Amt': 4.1, 'Trip_Distance': 0.43, 'Trip_Dropoff_DateTime': '2009-06-18 15:39:00', 'Trip_Pickup_DateTime': '2009-06-18 15:35:00', 'mta_tax': None, 'store_and_forward': None, 'surcharge': 0.0, 'vendor_name': 'VTS'}, {'End_Lat': 40.761542, 'End_Lon': -73.982648, 'Fare_Amt': 8.1, 'Passenger_Count': 1, 'Payment_Type': 'CASH', 'Rate_Code': None, 'Start_Lat': 40.780972, 'Start_Lon': -73.972577, 'Tip_Amt': 0.0, 'Tolls_Amt': 0.0, 'Total_Amt': 8.1, 'Trip_Distance': 1.57, 'Trip_Dropoff_DateTime': '2009-06-18 15:20:00', 'Trip_Pickup_DateTime': '2009-06-18 15:07:00', 'mta_tax': None, 'store_and_forward': None, 'surcharge': 0.0, 'vendor_name': 'VTS'}, {'End_Lat': 40.754867, 'End_Lon': -73.980448, 'Fare_Amt': 45.0, 'Passenger_Count': 2, 'Payment_Type': 'CASH', 'Rate_Code': None, 'Start_Lat': 40.646228, 'Start_Lon': -73.786898, 'Tip_Amt': 0.0, 'Tolls_Amt': 4.15, 'Total_Amt': 49.15, 'Trip_Distance': 17.4, 'Trip_Dropoff_DateTime': '2009-06-18 15:23:00', 'Trip_Pickup_DateTime': '2009-06-18 14:28:00', 'mta_tax': None, 'store_and_forward': None, 'surcharge': 0.0, 'vendor_name': 'VTS'}, {'End_Lat': 40.720128, 'End_Lon': -74.007968, 'Fare_Amt': 7.7, 'Passenger_Count': 1, 'Payment_Type': 'Credit', 'Rate_Code': None, 'Start_Lat': 40.7413, 'Start_Lon': -73.993145, 'Tip_Amt': 1.0, 'Tolls_Amt': 0.0, 'Total_Amt': 9.2, 'Trip_Distance': 1.98, 'Trip_Dropoff_DateTime': '2009-06-11 21:25:00', 'Trip_Pickup_DateTime': '2009-06-11 21:15:00', 'mta_tax': None, 'store_and_forward': None, 'surcharge': 0.5, 'vendor_name': 'VTS'}, {'End_Lat': 40.764333, 'End_Lon': -73.947417, 'Fare_Amt': 14.1, 'Passenger_Count': 2, 'Payment_Type': 'CASH', 'Rate_Code': None, 'Start_Lat': 40.741185, 'Start_Lon': -73.98139, 'Tip_Amt': 0.0, 'Tolls_Amt': 0.0, 'Total_Amt': 14.6, 'Trip_Distance': 4.73, 'Trip_Dropoff_DateTime': '2009-06-11 21:37:00', 'Trip_Pickup_DateTime': '2009-06-11 21:19:00', 'mta_tax': None, 'store_and_forward': None, 'surcharge': 0.5, 'vendor_name': 'VTS'}, {'End_Lat': 40.77285, 'End_Lon': -73.955657, 'Fare_Amt': 7.7, 'Passenger_Count': 3, 'Payment_Type': 'Credit', 'Rate_Code': None, 'Start_Lat': 40.79219, 'Start_Lon': -73.975575, 'Tip_Amt': 2.0, 'Tolls_Amt': 0.0, 'Total_Amt': 10.7, 'Trip_Distance': 2.19, 'Trip_Dropoff_DateTime': '2009-06-15 19:25:00', 'Trip_Pickup_DateTime': '2009-06-15 19:16:00', 'mta_tax': None, 'store_and_forward': None, 'surcharge': 1.0, 'vendor_name': 'VTS'}, {'End_Lat': 40.751167, 'End_Lon': -73.990927, 'Fare_Amt': 5.3, 'Passenger_Count': 1, 'Payment_Type': 'CASH', 'Rate_Code': None, 'Start_Lat': 40.751722, 'Start_Lon': -73.980043, 'Tip_Amt': 0.0, 'Tolls_Amt': 0.0, 'Total_Amt': 5.8, 'Trip_Distance': 1.17, 'Trip_Dropoff_DateTime': '2009-06-12 00:18:00', 'Trip_Pickup_DateTime': '2009-06-12 00:13:00', 'mta_tax': None, 'store_and_forward': None, 'surcharge': 0.5, 'vendor_name': 'VTS'}, {'End_Lat': 40.644997, 'End_Lon': -73.95831, 'Fare_Amt': 8.9, 'Passenger_Count': 5, 'Payment_Type': 'CASH', 'Rate_Code': None, 'Start_Lat': 40.67553, 'Start_Lon': -73.971278, 'Tip_Amt': 0.0, 'Tolls_Amt': 0.0, 'Total_Amt': 9.4, 'Trip_Distance': 2.34, 'Trip_Dropoff_DateTime': '2009-06-12 00:18:00', 'Trip_Pickup_DateTime': '2009-06-12 00:08:00', 'mta_tax': None, 'store_and_forward': None, 'surcharge': 0.5, 'vendor_name': 'VTS'}, {'End_Lat': 40.736633, 'End_Lon': -73.997162, 'Fare_Amt': 7.7, 'Passenger_Count': 1, 'Payment_Type': 'CASH', 'Rate_Code': None, 'Start_Lat': 40.760705, 'Start_Lon': -73.975773, 'Tip_Amt': 0.0, 'Tolls_Amt': 0.0, 'Total_Amt': 8.2, 'Trip_Distance': 2.16, 'Trip_Dropoff_DateTime': '2009-06-11 22:37:00', 'Trip_Pickup_DateTime': '2009-06-11 22:28:00', 'mta_tax': None, 'store_and_forward': None, 'surcharge': 0.5, 'vendor_name': 'VTS'}, {'End_Lat': 40.764413, 'End_Lon': -73.982798, 'Fare_Amt': 4.1, 'Passenger_Count': 1, 'Payment_Type': 'Credit', 'Rate_Code': None, 'Start_Lat': 40.75815, 'Start_Lon': -73.988412, 'Tip_Amt': 1.0, 'Tolls_Amt': 0.0, 'Total_Amt': 5.6, 'Trip_Distance': 0.63, 'Trip_Dropoff_DateTime': '2009-06-11 21:25:00', 'Trip_Pickup_DateTime': '2009-06-11 21:21:00', 'mta_tax': N\n",
      "\n",
      "*** WARNING: max output size exceeded, skipping output. ***\n",
      "\n",
      "mt': 23.7, 'Passenger_Count': 5, 'Payment_Type': 'CASH', 'Rate_Code': None, 'Start_Lat': 40.755657, 'Start_Lon': -73.991818, 'Tip_Amt': 0.0, 'Tolls_Amt': 4.15, 'Total_Amt': 28.85, 'Trip_Distance': 9.21, 'Trip_Dropoff_DateTime': '2009-06-17 19:27:00', 'Trip_Pickup_DateTime': '2009-06-17 19:02:00', 'mta_tax': None, 'store_and_forward': None, 'surcharge': 1.0, 'vendor_name': 'VTS'}, {'End_Lat': 40.835598, 'End_Lon': -73.939472, 'Fare_Amt': 28.1, 'Passenger_Count': 5, 'Payment_Type': 'Credit', 'Rate_Code': None, 'Start_Lat': 40.73268, 'Start_Lon': -73.979827, 'Tip_Amt': 0.0, 'Tolls_Amt': 0.0, 'Total_Amt': 28.1, 'Trip_Distance': 11.34, 'Trip_Dropoff_DateTime': '2009-06-13 09:25:00', 'Trip_Pickup_DateTime': '2009-06-13 08:57:00', 'mta_tax': None, 'store_and_forward': None, 'surcharge': 0.0, 'vendor_name': 'VTS'}, {'End_Lat': 40.74084, 'End_Lon': -73.978615, 'Fare_Amt': 9.3, 'Passenger_Count': 1, 'Payment_Type': 'Credit', 'Rate_Code': None, 'Start_Lat': 40.770725, 'Start_Lon': -73.956993, 'Tip_Amt': 0.0, 'Tolls_Amt': 0.0, 'Total_Amt': 10.3, 'Trip_Distance': 2.37, 'Trip_Dropoff_DateTime': '2009-06-17 18:22:00', 'Trip_Pickup_DateTime': '2009-06-17 18:09:00', 'mta_tax': None, 'store_and_forward': None, 'surcharge': 1.0, 'vendor_name': 'VTS'}, {'End_Lat': 40.770632, 'End_Lon': -73.865245, 'Fare_Amt': 14.9, 'Passenger_Count': 3, 'Payment_Type': 'CASH', 'Rate_Code': None, 'Start_Lat': 40.737378, 'Start_Lon': -73.885048, 'Tip_Amt': 0.0, 'Tolls_Amt': 0.0, 'Total_Amt': 14.9, 'Trip_Distance': 5.64, 'Trip_Dropoff_DateTime': '2009-06-20 07:52:00', 'Trip_Pickup_DateTime': '2009-06-20 07:39:00', 'mta_tax': None, 'store_and_forward': None, 'surcharge': 0.0, 'vendor_name': 'VTS'}, {'End_Lat': 40.782127, 'End_Lon': -73.95147, 'Fare_Amt': 8.1, 'Passenger_Count': 2, 'Payment_Type': 'Credit', 'Rate_Code': None, 'Start_Lat': 40.757035, 'Start_Lon': -73.976205, 'Tip_Amt': 1.5, 'Tolls_Amt': 0.0, 'Total_Amt': 9.6, 'Trip_Distance': 2.51, 'Trip_Dropoff_DateTime': '2009-06-17 15:43:00', 'Trip_Pickup_DateTime': '2009-06-17 15:33:00', 'mta_tax': None, 'store_and_forward': None, 'surcharge': 0.0, 'vendor_name': 'VTS'}, {'End_Lat': 40.797345, 'End_Lon': -73.968125, 'Fare_Amt': 4.9, 'Passenger_Count': 1, 'Payment_Type': 'CASH', 'Rate_Code': None, 'Start_Lat': 40.785018, 'Start_Lon': -73.979062, 'Tip_Amt': 0.0, 'Tolls_Amt': 0.0, 'Total_Amt': 4.9, 'Trip_Distance': 1.15, 'Trip_Dropoff_DateTime': '2009-06-20 08:56:00', 'Trip_Pickup_DateTime': '2009-06-20 08:52:00', 'mta_tax': None, 'store_and_forward': None, 'surcharge': 0.0, 'vendor_name': 'VTS'}, {'End_Lat': 40.764797, 'End_Lon': -73.958233, 'Fare_Amt': 8.9, 'Passenger_Count': 5, 'Payment_Type': 'CASH', 'Rate_Code': None, 'Start_Lat': 40.735693, 'Start_Lon': -73.979385, 'Tip_Amt': 0.0, 'Tolls_Amt': 0.0, 'Total_Amt': 8.9, 'Trip_Distance': 2.32, 'Trip_Dropoff_DateTime': '2009-06-17 14:32:00', 'Trip_Pickup_DateTime': '2009-06-17 14:21:00', 'mta_tax': None, 'store_and_forward': None, 'surcharge': 0.0, 'vendor_name': 'VTS'}, {'End_Lat': 40.751425, 'End_Lon': -73.97419, 'Fare_Amt': 3.7, 'Passenger_Count': 1, 'Payment_Type': 'CASH', 'Rate_Code': None, 'Start_Lat': 40.744568, 'Start_Lon': -73.97907, 'Tip_Amt': 0.0, 'Tolls_Amt': 0.0, 'Total_Amt': 3.7, 'Trip_Distance': 0.55, 'Trip_Dropoff_DateTime': '2009-06-20 08:22:00', 'Trip_Pickup_DateTime': '2009-06-20 08:20:00', 'mta_tax': None, 'store_and_forward': None, 'surcharge': 0.0, 'vendor_name': 'VTS'}, {'End_Lat': 40.770282, 'End_Lon': -73.961618, 'Fare_Amt': 12.1, 'Passenger_Count': 1, 'Payment_Type': 'CASH', 'Rate_Code': None, 'Start_Lat': 40.744232, 'Start_Lon': -73.995912, 'Tip_Amt': 0.0, 'Tolls_Amt': 0.0, 'Total_Amt': 13.1, 'Trip_Distance': 3.16, 'Trip_Dropoff_DateTime': '2009-06-04 16:26:00', 'Trip_Pickup_DateTime': '2009-06-04 16:07:00', 'mta_tax': None, 'store_and_forward': None, 'surcharge': 1.0, 'vendor_name': 'VTS'}, {'End_Lat': 40.779647, 'End_Lon': -73.955843, 'Fare_Amt': 4.9, 'Passenger_Count': 1, 'Payment_Type': 'CASH', 'Rate_Code': None, 'Start_Lat': 40.79102, 'Start_Lon': -73.953433, 'Tip_Amt': 0.0, 'Tolls_Amt': 0.0, 'Total_Amt': 5.9, 'Trip_Distance': 1.04, 'Trip_Dropoff_DateTime': '2009-06-24 17:17:00', 'Trip_Pickup_DateTime': '2009-06-24 17:12:00', 'mta_tax': None, 'store_and_forward': None, 'surcharge': 1.0, 'vendor_name': 'VTS'}, {'End_Lat': 40.74194, 'End_Lon': -73.92624, 'Fare_Amt': 10.1, 'Passenger_Count': 5, 'Payment_Type': 'CASH', 'Rate_Code': None, 'Start_Lat': 40.752835, 'Start_Lon': -73.973995, 'Tip_Amt': 0.0, 'Tolls_Amt': 0.0, 'Total_Amt': 10.6, 'Trip_Distance': 3.48, 'Trip_Dropoff_DateTime': '2009-06-20 05:20:00', 'Trip_Pickup_DateTime': '2009-06-20 05:11:00', 'mta_tax': None, 'store_and_forward': None, 'surcharge': 0.5, 'vendor_name': 'VTS'}, {'End_Lat': 40.772335, 'End_Lon': -73.965067, 'Fare_Amt': 6.5, 'Passenger_Count': 2, 'Payment_Type': 'CASH', 'Rate_Code': None, 'Start_Lat': 40.765475, 'Start_Lon': -73.983742, 'Tip_Amt': 0.0, 'Tolls_Amt': 0.0, 'Total_Amt': 6.5, 'Trip_Distance': 1.49, 'Trip_Dropoff_DateTime': '2009-06-10 10:31:00', 'Trip_Pickup_DateTime': '2009-06-10 10:23:00', 'mta_tax': None, 'store_and_forward': None, 'surcharge': 0.0, 'vendor_name': 'VTS'}, {'End_Lat': 40.77142, 'End_Lon': -73.963365, 'Fare_Amt': 6.5, 'Passenger_Count': 5, 'Payment_Type': 'CASH', 'Rate_Code': None, 'Start_Lat': 40.759597, 'Start_Lon': -73.969812, 'Tip_Amt': 0.0, 'Tolls_Amt': 0.0, 'Total_Amt': 6.5, 'Trip_Distance': 0.98, 'Trip_Dropoff_DateTime': '2009-06-17 14:42:00', 'Trip_Pickup_DateTime': '2009-06-17 14:33:00', 'mta_tax': None, 'store_and_forward': None, 'surcharge': 0.0, 'vendor_name': 'VTS'}, {'End_Lat': 40.756167, 'End_Lon': -73.990502, 'Fare_Amt': 7.3, 'Passenger_Count': 1, 'Payment_Type': 'CASH', 'Rate_Code': None, 'Start_Lat': 40.76061, 'Start_Lon': -74.002725, 'Tip_Amt': 0.0, 'Tolls_Amt': 0.0, 'Total_Amt': 7.3, 'Trip_Distance': 0.79, 'Trip_Dropoff_DateTime': '2009-06-10 10:20:00', 'Trip_Pickup_DateTime': '2009-06-10 10:09:00', 'mta_tax': None, 'store_and_forward': None, 'surcharge': 0.0, 'vendor_name': 'VTS'}, {'End_Lat': 40.648802, 'End_Lon': -73.782532, 'Fare_Amt': 45.0, 'Passenger_Count': 5, 'Payment_Type': 'Credit', 'Rate_Code': None, 'Start_Lat': 40.728797, 'Start_Lon': -73.990338, 'Tip_Amt': 7.0, 'Tolls_Amt': 4.15, 'Total_Amt': 56.15, 'Trip_Distance': 17.6, 'Trip_Dropoff_DateTime': '2009-06-12 07:05:00', 'Trip_Pickup_DateTime': '2009-06-12 06:37:00', 'mta_tax': None, 'store_and_forward': None, 'surcharge': 0.0, 'vendor_name': 'VTS'}, {'End_Lat': 40.756165, 'End_Lon': -73.961542, 'Fare_Amt': 14.5, 'Passenger_Count': 1, 'Payment_Type': 'CASH', 'Rate_Code': None, 'Start_Lat': 40.737645, 'Start_Lon': -73.99168, 'Tip_Amt': 0.0, 'Tolls_Amt': 0.0, 'Total_Amt': 14.5, 'Trip_Distance': 2.93, 'Trip_Dropoff_DateTime': '2009-06-13 16:56:00', 'Trip_Pickup_DateTime': '2009-06-13 16:30:00', 'mta_tax': None, 'store_and_forward': None, 'surcharge': 0.0, 'vendor_name': 'VTS'}, {'End_Lat': 40.75614, 'End_Lon': -73.998157, 'Fare_Amt': 4.5, 'Passenger_Count': 1, 'Payment_Type': 'CASH', 'Rate_Code': None, 'Start_Lat': 40.749993, 'Start_Lon': -73.988335, 'Tip_Amt': 0.0, 'Tolls_Amt': 0.0, 'Total_Amt': 4.5, 'Trip_Distance': 0.77, 'Trip_Dropoff_DateTime': '2009-06-10 10:20:00', 'Trip_Pickup_DateTime': '2009-06-10 10:16:00', 'mta_tax': None, 'store_and_forward': None, 'surcharge': 0.0, 'vendor_name': 'VTS'}, {'End_Lat': 40.766653, 'End_Lon': -73.96711, 'Fare_Amt': 7.3, 'Passenger_Count': 1, 'Payment_Type': 'Credit', 'Rate_Code': None, 'Start_Lat': 40.786427, 'Start_Lon': -73.952855, 'Tip_Amt': 2.0, 'Tolls_Amt': 0.0, 'Total_Amt': 9.3, 'Trip_Distance': 1.63, 'Trip_Dropoff_DateTime': '2009-06-10 10:26:00', 'Trip_Pickup_DateTime': '2009-06-10 10:16:00', 'mta_tax': None, 'store_and_forward': None, 'surcharge': 0.0, 'vendor_name': 'VTS'}, {'End_Lat': 40.732447, 'End_Lon': -74.003787, 'Fare_Amt': 5.7, 'Passenger_Count': 1, 'Payment_Type': 'Credit', 'Rate_Code': None, 'Start_Lat': 40.730995, 'Start_Lon': -74.009037, 'Tip_Amt': 2.0, 'Tolls_Amt': 0.0, 'Total_Amt': 8.7, 'Trip_Distance': 1.03, 'Trip_Dropoff_DateTime': '2009-06-08 20:06:00', 'Trip_Pickup_DateTime': '2009-06-08 19:59:00', 'mta_tax': None, 'store_and_forward': None, 'surcharge': 1.0, 'vendor_name': 'VTS'}, {'End_Lat': 40.74732, 'End_Lon': -73.997028, 'Fare_Amt': 3.7, 'Passenger_Count': 1, 'Payment_Type': 'CASH', 'Rate_Code': None, 'Start_Lat': 40.743053, 'Start_Lon': -73.993042, 'Tip_Amt': 0.0, 'Tolls_Amt': 0.0, 'Total_Amt': 3.7, 'Trip_Distance': 0.48, 'Trip_Dropoff_DateTime': '2009-06-10 10:16:00', 'Trip_Pickup_DateTime': '2009-06-10 10:12:00', 'mta_tax': None, 'store_and_forward': None, 'surcharge': 0.0, 'vendor_name': 'VTS'}, {'End_Lat': 40.786937, 'End_Lon': -73.953887, 'Fare_Amt': 6.9, 'Passenger_Count': 1, 'Payment_Type': 'CASH', 'Rate_Code': None, 'Start_Lat': 40.75771, 'Start_Lon': -73.97674, 'Tip_Amt': 0.0, 'Tolls_Amt': 0.0, 'Total_Amt': 6.9, 'Trip_Distance': 2.16, 'Trip_Dropoff_DateTime': '2009-06-20 11:27:00', 'Trip_Pickup_DateTime': '2009-06-20 11:21:00', 'mta_tax': None, 'store_and_forward': None, 'surcharge': 0.0, 'vendor_name': 'VTS'}, {'End_Lat': 40.732945, 'End_Lon': -73.992565, 'Fare_Amt': 4.5, 'Passenger_Count': 1, 'Payment_Type': 'CASH', 'Rate_Code': None, 'Start_Lat': 40.740938, 'Start_Lon': -73.98374, 'Tip_Amt': 0.0, 'Tolls_Amt': 0.0, 'Total_Amt': 5.5, 'Trip_Distance': 0.94, 'Trip_Dropoff_DateTime': '2009-06-25 17:15:00', 'Trip_Pickup_DateTime': '2009-06-25 17:11:00', 'mta_tax': None, 'store_and_forward': None, 'surcharge': 1.0, 'vendor_name': 'VTS'}, {'End_Lat': 40.748488, 'End_Lon': -73.988565, 'Fare_Amt': 9.7, 'Passenger_Count': 4, 'Payment_Type': 'CASH', 'Rate_Code': None, 'Start_Lat': 40.718763, 'Start_Lon': -74.010685, 'Tip_Amt': 0.0, 'Tolls_Amt': 0.0, 'Total_Amt': 10.2, 'Trip_Distance': 3.23, 'Trip_Dropoff_DateTime': '2009-06-20 03:03:00', 'Trip_Pickup_DateTime': '2009-06-20 02:53:00', 'mta_tax': None, 'store_and_forward': None, 'surcharge': 0.5, 'vendor_name': 'VTS'}, {'End_Lat': 40.776508, 'End_Lon': -73.913233, 'Fare_Amt': 12.5, 'Passenger_Count': 1, 'Payment_Type': 'CASH', 'Rate_Code': None, 'Start_Lat': 40.769232, 'Start_Lon': -73.862932, 'Tip_Amt': 0.0, 'Tolls_Amt': 0.0, 'Total_Amt': 12.5, 'Trip_Distance': 4.41, 'Trip_Dropoff_DateTime': '2009-06-13 14:23:00', 'Trip_Pickup_DateTime': '2009-06-13 14:11:00', 'mta_tax': None, 'store_and_forward': None, 'surcharge': 0.0, 'vendor_name': 'VTS'}, {'End_Lat': 40.743183, 'End_Lon': -73.993208, 'Fare_Amt': 3.3, 'Passenger_Count': 1, 'Payment_Type': 'CASH', 'Rate_Code': None, 'Start_Lat': 40.738052, 'Start_Lon': -73.99672, 'Tip_Amt': 0.0, 'Tolls_Amt': 0.0, 'Total_Amt': 3.3, 'Trip_Distance': 0.4, 'Trip_Dropoff_DateTime': '2009-06-20 10:46:00', 'Trip_Pickup_DateTime': '2009-06-20 10:44:00', 'mta_tax': None, 'store_and_forward': None, 'surcharge': 0.0, 'vendor_name': 'VTS'}, {'End_Lat': 40.79175, 'End_Lon': -73.968957, 'Fare_Amt': 9.7, 'Passenger_Count': 2, 'Payment_Type': 'CASH', 'Rate_Code': None, 'Start_Lat': 40.756128, 'Start_Lon': -73.990268, 'Tip_Amt': 0.0, 'Tolls_Amt': 0.0, 'Total_Amt': 10.7, 'Trip_Distance': 3.22, 'Trip_Dropoff_DateTime': '2009-06-08 19:40:00', 'Trip_Pickup_DateTime': '2009-06-08 19:29:00', 'mta_tax': None, 'store_and_forward': None, 'surcharge': 1.0, 'vendor_name': 'VTS'}, {'End_Lat': 40.740995, 'End_Lon': -74.005568, 'Fare_Amt': 6.9, 'Passenger_Count': 5, 'Payment_Type': 'Credit', 'Rate_Code': None, 'Start_Lat': 40.756003, 'Start_Lon': -73.990352, 'Tip_Amt': 2.0, 'Tolls_Amt': 0.0, 'Total_Amt': 9.4, 'Trip_Distance': 1.7, 'Trip_Dropoff_DateTime': '2009-06-23 20:23:00', 'Trip_Pickup_DateTime': '2009-06-23 20:15:00', 'mta_tax': None, 'store_and_forward': None, 'surcharge': 0.5, 'vendor_name': 'VTS'}, {'End_Lat': 40.758275, 'End_Lon': -73.937818, 'Fare_Amt': 2.5, 'Passenger_Count': 208, 'Payment_Type': 'CASH', 'Rate_Code': None, 'Start_Lat': 40.758278, 'Start_Lon': -73.937825, 'Tip_Amt': 0.0, 'Tolls_Amt': 0.0, 'Total_Amt': 2.5, 'Trip_Distance': 0.0, 'Trip_Dropoff_DateTime': '2009-06-17 13:07:00', 'Trip_Pickup_DateTime': '2009-06-17 13:07:00', 'mta_tax': None, 'store_and_forward': None, 'surcharge': 0.0, 'vendor_name': 'VTS'}, {'End_Lat': 40.762637, 'End_Lon': -73.973573, 'Fare_Amt': 8.5, 'Passenger_Count': 1, 'Payment_Type': 'Credit', 'Rate_Code': None, 'Start_Lat': 40.743953, 'Start_Lon': -73.973332, 'Tip_Amt': 2.0, 'Tolls_Amt': 0.0, 'Total_Amt': 10.5, 'Trip_Distance': 1.76, 'Trip_Dropoff_DateTime': '2009-06-22 09:32:00', 'Trip_Pickup_DateTime': '2009-06-22 09:20:00', 'mta_tax': None, 'store_and_forward': None, 'surcharge': 0.0, 'vendor_name': 'VTS'}, {'End_Lat': 40.778677, 'End_Lon': -73.952, 'Fare_Amt': 11.3, 'Passenger_Count': 5, 'Payment_Type': 'CASH', 'Rate_Code': None, 'Start_Lat': 40.74413, 'Start_Lon': -73.985675, 'Tip_Amt': 0.0, 'Tolls_Amt': 0.0, 'Total_Amt': 11.3, 'Trip_Distance': 3.71, 'Trip_Dropoff_DateTime': '2009-06-13 16:59:00', 'Trip_Pickup_DateTime': '2009-06-13 16:45:00', 'mta_tax': None, 'store_and_forward': None, 'surcharge': 0.0, 'vendor_name': 'VTS'}, {'End_Lat': 40.740808, 'End_Lon': -73.98378, 'Fare_Amt': 4.9, 'Passenger_Count': 5, 'Payment_Type': 'CASH', 'Rate_Code': None, 'Start_Lat': 40.7441, 'Start_Lon': -73.991528, 'Tip_Amt': 0.0, 'Tolls_Amt': 0.0, 'Total_Amt': 4.9, 'Trip_Distance': 0.58, 'Trip_Dropoff_DateTime': '2009-06-22 09:22:00', 'Trip_Pickup_DateTime': '2009-06-22 09:16:00', 'mta_tax': None, 'store_and_forward': None, 'surcharge': 0.0, 'vendor_name': 'VTS'}, {'End_Lat': 40.741, 'End_Lon': -73.987878, 'Fare_Amt': 7.3, 'Passenger_Count': 1, 'Payment_Type': 'Credit', 'Rate_Code': None, 'Start_Lat': 40.757448, 'Start_Lon': -73.973623, 'Tip_Amt': 2.0, 'Tolls_Amt': 0.0, 'Total_Amt': 9.3, 'Trip_Distance': 1.54, 'Trip_Dropoff_DateTime': '2009-06-10 08:57:00', 'Trip_Pickup_DateTime': '2009-06-10 08:47:00', 'mta_tax': None, 'store_and_forward': None, 'surcharge': 0.0, 'vendor_name': 'VTS'}, {'End_Lat': 40.786732, 'End_Lon': -73.977852, 'Fare_Amt': 4.5, 'Passenger_Count': 3, 'Payment_Type': 'CASH', 'Rate_Code': None, 'Start_Lat': 40.774942, 'Start_Lon': -73.982825, 'Tip_Amt': 0.0, 'Tolls_Amt': 0.0, 'Total_Amt': 4.5, 'Trip_Distance': 0.92, 'Trip_Dropoff_DateTime': '2009-06-13 16:27:00', 'Trip_Pickup_DateTime': '2009-06-13 16:23:00', 'mta_tax': None, 'store_and_forward': None, 'surcharge': 0.0, 'vendor_name': 'VTS'}, {'End_Lat': 40.760448, 'End_Lon': -73.90675, 'Fare_Amt': 14.5, 'Passenger_Count': 1, 'Payment_Type': 'CASH', 'Rate_Code': None, 'Start_Lat': 40.756647, 'Start_Lon': -73.966773, 'Tip_Amt': 0.0, 'Tolls_Amt': 0.0, 'Total_Amt': 15.0, 'Trip_Distance': 5.16, 'Trip_Dropoff_DateTime': '2009-06-12 04:36:00', 'Trip_Pickup_DateTime': '2009-06-12 04:20:00', 'mta_tax': None, 'store_and_forward': None, 'surcharge': 0.5, 'vendor_name': 'VTS'}, {'End_Lat': 40.764282, 'End_Lon': -73.959452, 'Fare_Amt': 15.3, 'Passenger_Count': 5, 'Payment_Type': 'CASH', 'Rate_Code': None, 'Start_Lat': 40.750223, 'Start_Lon': -73.991, 'Tip_Amt': 0.0, 'Tolls_Amt': 0.0, 'Total_Amt': 15.3, 'Trip_Distance': 3.17, 'Trip_Dropoff_DateTime': '2009-06-13 17:40:00', 'Trip_Pickup_DateTime': '2009-06-13 17:14:00', 'mta_tax': None, 'store_and_forward': None, 'surcharge': 0.0, 'vendor_name': 'VTS'}, {'End_Lat': 40.750047, 'End_Lon': -73.995035, 'Fare_Amt': 6.5, 'Passenger_Count': 1, 'Payment_Type': 'Credit', 'Rate_Code': None, 'Start_Lat': 40.732528, 'Start_Lon': -74.006455, 'Tip_Amt': 1.0, 'Tolls_Amt': 0.0, 'Total_Amt': 7.5, 'Trip_Distance': 1.38, 'Trip_Dropoff_DateTime': '2009-06-22 09:01:00', 'Trip_Pickup_DateTime': '2009-06-22 08:54:00', 'mta_tax': None, 'store_and_forward': None, 'surcharge': 0.0, 'vendor_name': 'VTS'}, {'End_Lat': 40.687935, 'End_Lon': -73.962708, 'Fare_Amt': 14.1, 'Passenger_Count': 1, 'Payment_Type': 'CASH', 'Rate_Code': None, 'Start_Lat': 40.70672, 'Start_Lon': -74.006, 'Tip_Amt': 0.0, 'Tolls_Amt': 0.0, 'Total_Amt': 14.1, 'Trip_Distance': 3.96, 'Trip_Dropoff_DateTime': '2009-06-13 15:14:00', 'Trip_Pickup_DateTime': '2009-06-13 14:54:00', 'mta_tax': None, 'store_and_forward': None, 'surcharge': 0.0, 'vendor_name': 'VTS'}, {'End_Lat': 40.76153, 'End_Lon': -73.984125, 'Fare_Amt': 6.1, 'Passenger_Count': 1, 'Payment_Type': 'CASH', 'Rate_Code': None, 'Start_Lat': 40.752593, 'Start_Lon': -73.979623, 'Tip_Amt': 0.0, 'Tolls_Amt': 0.0, 'Total_Amt': 6.1, 'Trip_Distance': 1.0, 'Trip_Dropoff_DateTime': '2009-06-22 08:55:00', 'Trip_Pickup_DateTime': '2009-06-22 08:47:00', 'mta_tax': None, 'store_and_forward': None, 'surcharge': 0.0, 'vendor_name': 'VTS'}, {'End_Lat': 40.786993, 'End_Lon': -73.953502, 'Fare_Amt': 11.7, 'Passenger_Count': 3, 'Payment_Type': 'CASH', 'Rate_Code': None, 'Start_Lat': 40.744223, 'Start_Lon': -73.991892, 'Tip_Amt': 0.0, 'Tolls_Amt': 0.0, 'Total_Amt': 11.7, 'Trip_Distance': 3.89, 'Trip_Dropoff_DateTime': '2009-06-13 13:39:00', 'Trip_Pickup_DateTime': '2009-06-13 13:24:00', 'mta_tax': None, 'store_and_forward': None, 'surcharge': 0.0, 'vendor_name': 'VTS'}, {'End_Lat': 40.756205, 'End_Lon': -73.972457, 'Fare_Amt': 6.5, 'Passenger_Count': 5, 'Payment_Type': 'Credit', 'Rate_Code': None, 'Start_Lat': 40.777513, 'Start_Lon': -73.95702, 'Tip_Amt': 2.0, 'Tolls_Amt': 0.0, 'Total_Amt': 8.5, 'Trip_Distance': 1.69, 'Trip_Dropoff_DateTime': '2009-06-22 08:50:00', 'Trip_Pickup_DateTime': '2009-06-22 08:43:00', 'mta_tax': None, 'store_and_forward': None, 'surcharge': 0.0, 'vendor_name': 'VTS'}, {'End_Lat': 40.875673, 'End_Lon': -73.908575, 'Fare_Amt': 29.3, 'Passenger_Count': 1, 'Payment_Type': 'CASH', 'Rate_Code': None, 'Start_Lat': 40.762393, 'Start_Lon': -73.979567, 'Tip_Amt': 0.0, 'Tolls_Amt': 0.0, 'Total_Amt': 29.3, 'Trip_Distance': 10.27, 'Trip_Dropoff_DateTime': '2009-06-13 16:27:00', 'Trip_Pickup_DateTime': '2009-06-13 15:42:00', 'mta_tax': None, 'store_and_forward': None, 'surcharge': 0.0, 'vendor_name': 'VTS'}, {'End_Lat': 40.746825, 'End_Lon': -73.985128, 'Fare_Amt': 10.5, 'Passenger_Count': 1, 'Payment_Type': 'CASH', 'Rate_Code': None, 'Start_Lat': 40.709812, 'Start_Lon': -74.010153, 'Tip_Amt': 0.0, 'Tolls_Amt': 0.0, 'Total_Amt': 11.0, 'Trip_Distance': 3.37, 'Trip_Dropoff_DateTime': '2009-06-12 20:31:00', 'Trip_Pickup_DateTime': '2009-06-12 20:17:00', 'mta_tax': None, 'store_and_forward': None, 'surcharge': 0.5, 'vendor_name': 'VTS'}, {'End_Lat': 40.761102, 'End_Lon': -73.970063, 'Fare_Amt': 5.7, 'Passenger_Count': 5, 'Payment_Type': 'CASH', 'Rate_Code': None, 'Start_Lat': 40.745092, 'Start_Lon': -73.972443, 'Tip_Amt': 0.0, 'Tolls_Amt': 0.0, 'Total_Amt': 5.7, 'Trip_Distance': 1.46, 'Trip_Dropoff_DateTime': '2009-06-13 10:55:00', 'Trip_Pickup_DateTime': '2009-06-13 10:50:00', 'mta_tax': None, 'store_and_forward': None, 'surcharge': 0.0, 'vendor_name': 'VTS'}, {'End_Lat': 40.785988, 'End_Lon': -73.955193, 'Fare_Amt': 6.5, 'Passenger_Count': 1, 'Payment_Type': 'CASH', 'Rate_Code': None, 'Start_Lat': 40.762627, 'Start_Lon': -73.97175, 'Tip_Amt': 0.0, 'Tolls_Amt': 0.0, 'Total_Amt': 6.5, 'Trip_Distance': 1.78, 'Trip_Dropoff_DateTime': '2009-06-20 10:47:00', 'Trip_Pickup_DateTime': '2009-06-20 10:40:00', 'mta_tax': None, 'store_and_forward': None, 'surcharge': 0.0, 'vendor_name': 'VTS'}, {'End_Lat': 40.749502, 'End_Lon': -73.976087, 'Fare_Amt': 9.3, 'Passenger_Count': 5, 'Payment_Type': 'CASH', 'Rate_Code': None, 'Start_Lat': 40.732515, 'Start_Lon': -73.996258, 'Tip_Amt': 0.0, 'Tolls_Amt': 0.0, 'Total_Amt': 9.3, 'Trip_Distance': 2.39, 'Trip_Dropoff_DateTime': '2009-06-10 09:14:00', 'Trip_Pickup_DateTime': '2009-06-10 09:02:00', 'mta_tax': None, 'store_and_forward': None, 'surcharge': 0.0, 'vendor_name': 'VTS'}, {'End_Lat': 40.76553, 'End_Lon': -73.954717, 'Fare_Amt': 7.3, 'Passenger_Count': 1, 'Payment_Type': 'CASH', 'Rate_Code': None, 'Start_Lat': 40.749208, 'Start_Lon': -73.975643, 'Tip_Amt': 0.0, 'Tolls_Amt': 0.0, 'Total_Amt': 7.3, 'Trip_Distance': 2.02, 'Trip_Dropoff_DateTime': '2009-06-10 06:40:00', 'Trip_Pickup_DateTime': '2009-06-10 06:32:00', 'mta_tax': None, 'store_and_forward': None, 'surcharge': 0.0, 'vendor_name': 'VTS'}, {'End_Lat': 40.729888, 'End_Lon': -73.991748, 'Fare_Amt': 7.3, 'Passenger_Count': 2, 'Payment_Type': 'CASH', 'Rate_Code': None, 'Start_Lat': 40.74902, 'Start_Lon': -73.991725, 'Tip_Amt': 0.0, 'Tolls_Amt': 0.0, 'Total_Amt': 7.3, 'Trip_Distance': 1.82, 'Trip_Dropoff_DateTime': '2009-06-22 09:19:00', 'Trip_Pickup_DateTime': '2009-06-22 09:09:00', 'mta_tax': None, 'store_and_forward': None, 'surcharge': 0.0, 'vendor_name': 'VTS'}, {'End_Lat': 40.774587, 'End_Lon': -73.959148, 'Fare_Amt': 12.5, 'Passenger_Count': 1, 'Payment_Type': 'Credit', 'Rate_Code': None, 'Start_Lat': 40.724954, 'Start_Lon': -73.981307, 'Tip_Amt': 1.87, 'Tolls_Amt': 0.0, 'Total_Amt': 14.37, 'Trip_Distance': 4.3, 'Trip_Dropoff_DateTime': '2009-06-21 11:59:21', 'Trip_Pickup_DateTime': '2009-06-21 11:45:15', 'mta_tax': None, 'store_and_forward': 0.0, 'surcharge': 0.0, 'vendor_name': 'CMT'}, {'End_Lat': 40.762612, 'End_Lon': -73.983092, 'Fare_Amt': 8.9, 'Passenger_Count': 1, 'Payment_Type': 'CASH', 'Rate_Code': None, 'Start_Lat': 40.738743, 'Start_Lon': -74.008145, 'Tip_Amt': 0.0, 'Tolls_Amt': 0.0, 'Total_Amt': 8.9, 'Trip_Distance': 2.48, 'Trip_Dropoff_DateTime': '2009-06-10 07:13:00', 'Trip_Pickup_DateTime': '2009-06-10 07:03:00', 'mta_tax': None, 'store_and_forward': None, 'surcharge': 0.0, 'vendor_name': 'VTS'}, {'End_Lat': 40.748857, 'End_Lon': -73.981628, 'Fare_Amt': 4.9, 'Passenger_Count': 1, 'Payment_Type': 'CASH', 'Rate_Code': None, 'Start_Lat': 40.761013, 'Start_Lon': -73.968965, 'Tip_Amt': 0.0, 'Tolls_Amt': 0.0, 'Total_Amt': 5.4, 'Trip_Distance': 1.15, 'Trip_Dropoff_DateTime': '2009-06-13 01:13:00', 'Trip_Pickup_DateTime': '2009-06-13 01:09:00', 'mta_tax': None, 'store_and_forward': None, 'surcharge': 0.5, 'vendor_name': 'VTS'}, {'End_Lat': 0.0, 'End_Lon': 0.0, 'Fare_Amt': 8.5, 'Passenger_Count': 5, 'Payment_Type': 'CASH', 'Rate_Code': None, 'Start_Lat': 0.0, 'Start_Lon': 0.0, 'Tip_Amt': 0.0, 'Tolls_Amt': 0.0, 'Total_Amt': 8.5, 'Trip_Distance': 0.95, 'Trip_Dropoff_DateTime': '2009-06-15 11:55:00', 'Trip_Pickup_DateTime': '2009-06-15 11:40:00', 'mta_tax': None, 'store_and_forward': None, 'surcharge': 0.0, 'vendor_name': 'VTS'}, {'End_Lat': 40.741712, 'End_Lon': -73.997443, 'Fare_Amt': 9.3, 'Passenger_Count': 1, 'Payment_Type': 'Credit', 'Rate_Code': None, 'Start_Lat': 40.771873, 'Start_Lon': -73.982765, 'Tip_Amt': 0.0, 'Tolls_Amt': 0.0, 'Total_Amt': 9.3, 'Trip_Distance': 2.53, 'Trip_Dropoff_DateTime': '2009-06-13 12:01:00', 'Trip_Pickup_DateTime': '2009-06-13 11:48:00', 'mta_tax': None, 'store_and_forward': None, 'surcharge': 0.0, 'vendor_name': 'VTS'}, {'End_Lat': 40.733617, 'End_Lon': -73.991208, 'Fare_Amt': 10.5, 'Passenger_Count': 1, 'Payment_Type': 'Credit', 'Rate_Code': None, 'Start_Lat': 40.75853, 'Start_Lon': -73.978718, 'Tip_Amt': 3.0, 'Tolls_Amt': 0.0, 'Total_Amt': 13.5, 'Trip_Distance': 2.21, 'Trip_Dropoff_DateTime': '2009-06-13 13:14:00', 'Trip_Pickup_DateTime': '2009-06-13 12:57:00', 'mta_tax': None, 'store_and_forward': None, 'surcharge': 0.0, 'vendor_name': 'VTS'}, {'End_Lat': 40.742998, 'End_Lon': -73.919065, 'Fare_Amt': 6.9, 'Passenger_Count': 1, 'Payment_Type': 'CASH', 'Rate_Code': None, 'Start_Lat': 40.743523, 'Start_Lon': -73.918735, 'Tip_Amt': 0.0, 'Tolls_Amt': 0.0, 'Total_Amt': 6.9, 'Trip_Distance': 1.83, 'Trip_Dropoff_DateTime': '2009-06-10 06:23:00', 'Trip_Pickup_DateTime': '2009-06-10 06:16:00', 'mta_tax': None, 'store_and_forward': None, 'surcharge': 0.0, 'vendor_name': 'VTS'}, {'End_Lat': 40.731953, 'End_Lon': -73.98533, 'Fare_Amt': 7.3, 'Passenger_Count': 1, 'Payment_Type': 'CASH', 'Rate_Code': None, 'Start_Lat': 40.733143, 'Start_Lon': -74.006408, 'Tip_Amt': 0.0, 'Tolls_Amt': 0.0, 'Total_Amt': 7.8, 'Trip_Distance': 1.59, 'Trip_Dropoff_DateTime': '2009-06-10 05:11:00', 'Trip_Pickup_DateTime': '2009-06-10 05:02:00', 'mta_tax': None, 'store_and_forward': None, 'surcharge': 0.5, 'vendor_name': 'VTS'}, {'End_Lat': 40.71264, 'End_Lon': -73.99887, 'Fare_Amt': 5.7, 'Passenger_Count': 1, 'Payment_Type': 'CASH', 'Rate_Code': None, 'Start_Lat': 40.711865, 'Start_Lon': -74.010158, 'Tip_Amt': 0.0, 'Tolls_Amt': 0.0, 'Total_Amt': 5.7, 'Trip_Distance': 0.79, 'Trip_Dropoff_DateTime': '2009-06-13 12:45:00', 'Trip_Pickup_DateTime': '2009-06-13 12:37:00', 'mta_tax': None, 'store_and_forward': None, 'surcharge': 0.0, 'vendor_name': 'VTS'}, {'End_Lat': 40.732998, 'End_Lon': -74.007113, 'Fare_Amt': 7.3, 'Passenger_Count': 2, 'Payment_Type': 'CASH', 'Rate_Code': None, 'Start_Lat': 40.744658, 'Start_Lon': -73.992063, 'Tip_Amt': 0.0, 'Tolls_Amt': 0.0, 'Total_Amt': 7.8, 'Trip_Distance': 1.87, 'Trip_Dropoff_DateTime': '2009-06-09 21:34:00', 'Trip_Pickup_DateTime': '2009-06-09 21:25:00', 'mta_tax': None, 'store_and_forward': None, 'surcharge': 0.5, 'vendor_name': 'VTS'}, {'End_Lat': 40.76712, 'End_Lon': -73.953602, 'Fare_Amt': 4.5, 'Passenger_Count': 5, 'Payment_Type': 'CASH', 'Rate_Code': None, 'Start_Lat': 40.778478, 'Start_Lon': -73.945387, 'Tip_Amt': 0.0, 'Tolls_Amt': 0.0, 'Total_Amt': 4.5, 'Trip_Distance': 0.91, 'Trip_Dropoff_DateTime': '2009-06-13 08:59:00', 'Trip_Pickup_DateTime': '2009-06-13 08:56:00', 'mta_tax': None, 'store_and_forward': None, 'surcharge': 0.0, 'vendor_name': 'VTS'}]\n"
     ]
    }
   ],
   "source": [
    "import dlt\n",
    "from dlt.sources.helpers.rest_client import RESTClient\n",
    "from dlt.sources.helpers.rest_client.paginators import PageNumberPaginator\n",
    "\n",
    "\n",
    "def paginated_getter():\n",
    "    client = RESTClient(\n",
    "        base_url=\"https://us-central1-dlthub-analytics.cloudfunctions.net\",\n",
    "        # Define pagination strategy - page-based pagination\n",
    "        paginator=PageNumberPaginator(   # <--- Pages are numbered (1, 2, 3, ...)\n",
    "            base_page=1,   # <--- Start from page 1\n",
    "            total_path=None    # <--- No total count of pages provided by API, pagination should stop when a page contains no result items\n",
    "        )\n",
    "    )\n",
    "\n",
    "    for page in client.paginate(\"data_engineering_zoomcamp_api\"):    # <--- API endpoint for retrieving taxi ride data\n",
    "        yield page   # remember about memory management and yield data\n",
    "\n",
    "\n",
    "for page_data in paginated_getter():\n",
    "    print(page_data)\n",
    "    break"
   ]
  },
  {
   "cell_type": "code",
   "execution_count": null,
   "metadata": {
    "application/vnd.databricks.v1+cell": {
     "cellMetadata": {
      "byteLimit": 2048000,
      "rowLimit": 10000
     },
     "inputWidgets": {},
     "nuid": "01a80d33-d85d-407c-9c95-57d34bdfebcf",
     "showTitle": false,
     "tableResultSettingsMap": {},
     "title": ""
    }
   },
   "outputs": [
    {
     "data": {
      "text/plain": [
       "{'End_Lat': 40.742963,\n",
       " 'End_Lon': -73.980072,\n",
       " 'Fare_Amt': 45.0,\n",
       " 'Passenger_Count': 1,\n",
       " 'Payment_Type': 'Credit',\n",
       " 'Rate_Code': None,\n",
       " 'Start_Lat': 40.641525,\n",
       " 'Start_Lon': -73.787442,\n",
       " 'Tip_Amt': 9.0,\n",
       " 'Tolls_Amt': 4.15,\n",
       " 'Total_Amt': 58.15,\n",
       " 'Trip_Distance': 17.52,\n",
       " 'Trip_Dropoff_DateTime': '2009-06-14 23:48:00',\n",
       " 'Trip_Pickup_DateTime': '2009-06-14 23:23:00',\n",
       " 'mta_tax': None,\n",
       " 'store_and_forward': None,\n",
       " 'surcharge': 0.0,\n",
       " 'vendor_name': 'VTS'}"
      ]
     },
     "execution_count": 9,
     "metadata": {},
     "output_type": "execute_result"
    }
   ],
   "source": [
    "item = page_data[0]\n",
    "item"
   ]
  },
  {
   "cell_type": "code",
   "execution_count": null,
   "metadata": {
    "application/vnd.databricks.v1+cell": {
     "cellMetadata": {
      "byteLimit": 2048000,
      "rowLimit": 10000
     },
     "inputWidgets": {},
     "nuid": "ca8f221a-e355-4199-a3c7-a8fe6fa90556",
     "showTitle": false,
     "tableResultSettingsMap": {},
     "title": ""
    }
   },
   "outputs": [
    {
     "data": {
      "text/plain": [
       "{'End_Lat': 40.752725,\n",
       " 'End_Lon': -73.986827,\n",
       " 'Fare_Amt': 6.9,\n",
       " 'Passenger_Count': 1,\n",
       " 'Payment_Type': 'Credit',\n",
       " 'Rate_Code': None,\n",
       " 'Start_Lat': 40.750013,\n",
       " 'Start_Lon': -73.9916,\n",
       " 'Tip_Amt': 2.0,\n",
       " 'Tolls_Amt': 0.0,\n",
       " 'Total_Amt': 8.9,\n",
       " 'Trip_Distance': 0.69,\n",
       " 'Trip_Dropoff_DateTime': '2009-06-15 12:53:00',\n",
       " 'Trip_Pickup_DateTime': '2009-06-15 12:43:00',\n",
       " 'mta_tax': None,\n",
       " 'store_and_forward': None,\n",
       " 'surcharge': 0.0,\n",
       " 'vendor_name': 'VTS'}"
      ]
     },
     "execution_count": 14,
     "metadata": {},
     "output_type": "execute_result"
    }
   ],
   "source": [
    "page_data[104]"
   ]
  },
  {
   "cell_type": "code",
   "execution_count": null,
   "metadata": {
    "application/vnd.databricks.v1+cell": {
     "cellMetadata": {
      "byteLimit": 2048000,
      "rowLimit": 10000
     },
     "inputWidgets": {},
     "nuid": "ee7214ef-dddc-424a-a441-e2e993a5f650",
     "showTitle": false,
     "tableResultSettingsMap": {},
     "title": ""
    }
   },
   "outputs": [],
   "source": [
    "%%capture\n",
    "!pip install dlt"
   ]
  },
  {
   "cell_type": "code",
   "execution_count": null,
   "metadata": {
    "application/vnd.databricks.v1+cell": {
     "cellMetadata": {
      "byteLimit": 2048000,
      "rowLimit": 10000
     },
     "inputWidgets": {},
     "nuid": "592ee048-c02f-4e42-be15-6714bd51e64f",
     "showTitle": false,
     "tableResultSettingsMap": {},
     "title": ""
    }
   },
   "outputs": [
    {
     "name": "stdout",
     "output_type": "stream",
     "text": [
      "Pipeline dlt_db_ipykernel_launcher load step completed in 3.76 seconds\n",
      "1 load package(s) were loaded to destination duckdb and into dataset dlt_db_ipykernel_launcher_dataset\n",
      "The duckdb destination used duckdb:////Workspace/Users/revathy@calfrac.com/dlt_db_ipykernel_launcher.duckdb location to store data\n",
      "Load package 1739309395.5686655 is LOADED and contains no failed jobs\n"
     ]
    },
    {
     "data": {
      "text/html": [
       "<div>\n",
       "<style scoped>\n",
       "    .dataframe tbody tr th:only-of-type {\n",
       "        vertical-align: middle;\n",
       "    }\n",
       "\n",
       "    .dataframe tbody tr th {\n",
       "        vertical-align: top;\n",
       "    }\n",
       "\n",
       "    .dataframe thead th {\n",
       "        text-align: right;\n",
       "    }\n",
       "</style>\n",
       "<table border=\"1\" class=\"dataframe\">\n",
       "  <thead>\n",
       "    <tr style=\"text-align: right;\">\n",
       "      <th></th>\n",
       "      <th>end_lat</th>\n",
       "      <th>end_lon</th>\n",
       "      <th>fare_amt</th>\n",
       "      <th>passenger_count</th>\n",
       "      <th>payment_type</th>\n",
       "      <th>start_lat</th>\n",
       "      <th>start_lon</th>\n",
       "      <th>tip_amt</th>\n",
       "      <th>tolls_amt</th>\n",
       "      <th>total_amt</th>\n",
       "      <th>trip_distance</th>\n",
       "      <th>trip_dropoff_date_time</th>\n",
       "      <th>trip_pickup_date_time</th>\n",
       "      <th>surcharge</th>\n",
       "      <th>vendor_name</th>\n",
       "      <th>_dlt_load_id</th>\n",
       "      <th>_dlt_id</th>\n",
       "      <th>store_and_forward</th>\n",
       "    </tr>\n",
       "  </thead>\n",
       "  <tbody>\n",
       "    <tr>\n",
       "      <th>0</th>\n",
       "      <td>40.742963</td>\n",
       "      <td>-73.980072</td>\n",
       "      <td>45.0</td>\n",
       "      <td>1</td>\n",
       "      <td>Credit</td>\n",
       "      <td>40.641525</td>\n",
       "      <td>-73.787442</td>\n",
       "      <td>9.0</td>\n",
       "      <td>4.15</td>\n",
       "      <td>58.15</td>\n",
       "      <td>17.52</td>\n",
       "      <td>2009-06-14 23:48:00+00:00</td>\n",
       "      <td>2009-06-14 23:23:00+00:00</td>\n",
       "      <td>0.0</td>\n",
       "      <td>VTS</td>\n",
       "      <td>1739309395.5686655</td>\n",
       "      <td>yAmyKcJm/zm6Rg</td>\n",
       "      <td>NaN</td>\n",
       "    </tr>\n",
       "    <tr>\n",
       "      <th>1</th>\n",
       "      <td>40.740187</td>\n",
       "      <td>-74.005698</td>\n",
       "      <td>6.5</td>\n",
       "      <td>1</td>\n",
       "      <td>Credit</td>\n",
       "      <td>40.722065</td>\n",
       "      <td>-74.009767</td>\n",
       "      <td>1.0</td>\n",
       "      <td>0.00</td>\n",
       "      <td>8.50</td>\n",
       "      <td>1.56</td>\n",
       "      <td>2009-06-18 17:43:00+00:00</td>\n",
       "      <td>2009-06-18 17:35:00+00:00</td>\n",
       "      <td>1.0</td>\n",
       "      <td>VTS</td>\n",
       "      <td>1739309395.5686655</td>\n",
       "      <td>cqoNX1QSepVWBQ</td>\n",
       "      <td>NaN</td>\n",
       "    </tr>\n",
       "    <tr>\n",
       "      <th>2</th>\n",
       "      <td>40.718043</td>\n",
       "      <td>-74.004745</td>\n",
       "      <td>12.5</td>\n",
       "      <td>5</td>\n",
       "      <td>Credit</td>\n",
       "      <td>40.761945</td>\n",
       "      <td>-73.983038</td>\n",
       "      <td>2.0</td>\n",
       "      <td>0.00</td>\n",
       "      <td>15.50</td>\n",
       "      <td>3.37</td>\n",
       "      <td>2009-06-10 18:27:00+00:00</td>\n",
       "      <td>2009-06-10 18:08:00+00:00</td>\n",
       "      <td>1.0</td>\n",
       "      <td>VTS</td>\n",
       "      <td>1739309395.5686655</td>\n",
       "      <td>po80taABH4vZ2g</td>\n",
       "      <td>NaN</td>\n",
       "    </tr>\n",
       "    <tr>\n",
       "      <th>3</th>\n",
       "      <td>40.739637</td>\n",
       "      <td>-73.985233</td>\n",
       "      <td>4.9</td>\n",
       "      <td>1</td>\n",
       "      <td>CASH</td>\n",
       "      <td>40.749802</td>\n",
       "      <td>-73.992247</td>\n",
       "      <td>0.0</td>\n",
       "      <td>0.00</td>\n",
       "      <td>5.40</td>\n",
       "      <td>1.11</td>\n",
       "      <td>2009-06-14 23:58:00+00:00</td>\n",
       "      <td>2009-06-14 23:54:00+00:00</td>\n",
       "      <td>0.5</td>\n",
       "      <td>VTS</td>\n",
       "      <td>1739309395.5686655</td>\n",
       "      <td>QlFlm/zMFPuINg</td>\n",
       "      <td>NaN</td>\n",
       "    </tr>\n",
       "    <tr>\n",
       "      <th>4</th>\n",
       "      <td>40.730032</td>\n",
       "      <td>-73.852693</td>\n",
       "      <td>25.7</td>\n",
       "      <td>1</td>\n",
       "      <td>CASH</td>\n",
       "      <td>40.776825</td>\n",
       "      <td>-73.949233</td>\n",
       "      <td>0.0</td>\n",
       "      <td>4.15</td>\n",
       "      <td>29.85</td>\n",
       "      <td>11.09</td>\n",
       "      <td>2009-06-13 13:23:00+00:00</td>\n",
       "      <td>2009-06-13 13:01:00+00:00</td>\n",
       "      <td>0.0</td>\n",
       "      <td>VTS</td>\n",
       "      <td>1739309395.5686655</td>\n",
       "      <td>h/v7Nja59JfsbA</td>\n",
       "      <td>NaN</td>\n",
       "    </tr>\n",
       "    <tr>\n",
       "      <th>...</th>\n",
       "      <td>...</td>\n",
       "      <td>...</td>\n",
       "      <td>...</td>\n",
       "      <td>...</td>\n",
       "      <td>...</td>\n",
       "      <td>...</td>\n",
       "      <td>...</td>\n",
       "      <td>...</td>\n",
       "      <td>...</td>\n",
       "      <td>...</td>\n",
       "      <td>...</td>\n",
       "      <td>...</td>\n",
       "      <td>...</td>\n",
       "      <td>...</td>\n",
       "      <td>...</td>\n",
       "      <td>...</td>\n",
       "      <td>...</td>\n",
       "      <td>...</td>\n",
       "    </tr>\n",
       "    <tr>\n",
       "      <th>9995</th>\n",
       "      <td>40.783522</td>\n",
       "      <td>-73.970690</td>\n",
       "      <td>5.7</td>\n",
       "      <td>1</td>\n",
       "      <td>CASH</td>\n",
       "      <td>40.778560</td>\n",
       "      <td>-73.953660</td>\n",
       "      <td>0.0</td>\n",
       "      <td>0.00</td>\n",
       "      <td>5.70</td>\n",
       "      <td>1.16</td>\n",
       "      <td>2009-06-19 11:28:00+00:00</td>\n",
       "      <td>2009-06-19 11:22:00+00:00</td>\n",
       "      <td>0.0</td>\n",
       "      <td>VTS</td>\n",
       "      <td>1739309395.5686655</td>\n",
       "      <td>0FAAwkiSOcGzKg</td>\n",
       "      <td>NaN</td>\n",
       "    </tr>\n",
       "    <tr>\n",
       "      <th>9996</th>\n",
       "      <td>40.777200</td>\n",
       "      <td>-73.964197</td>\n",
       "      <td>4.1</td>\n",
       "      <td>1</td>\n",
       "      <td>CASH</td>\n",
       "      <td>40.779800</td>\n",
       "      <td>-73.974297</td>\n",
       "      <td>0.0</td>\n",
       "      <td>0.00</td>\n",
       "      <td>4.10</td>\n",
       "      <td>0.89</td>\n",
       "      <td>2009-06-17 07:43:00+00:00</td>\n",
       "      <td>2009-06-17 07:41:00+00:00</td>\n",
       "      <td>0.0</td>\n",
       "      <td>VTS</td>\n",
       "      <td>1739309395.5686655</td>\n",
       "      <td>wVnOApUBcjr07w</td>\n",
       "      <td>NaN</td>\n",
       "    </tr>\n",
       "    <tr>\n",
       "      <th>9997</th>\n",
       "      <td>40.780172</td>\n",
       "      <td>-73.957617</td>\n",
       "      <td>6.1</td>\n",
       "      <td>1</td>\n",
       "      <td>CASH</td>\n",
       "      <td>40.788388</td>\n",
       "      <td>-73.976758</td>\n",
       "      <td>0.0</td>\n",
       "      <td>0.00</td>\n",
       "      <td>6.10</td>\n",
       "      <td>1.30</td>\n",
       "      <td>2009-06-19 11:46:00+00:00</td>\n",
       "      <td>2009-06-19 11:39:00+00:00</td>\n",
       "      <td>0.0</td>\n",
       "      <td>VTS</td>\n",
       "      <td>1739309395.5686655</td>\n",
       "      <td>12Rmx/hj2I1gYg</td>\n",
       "      <td>NaN</td>\n",
       "    </tr>\n",
       "    <tr>\n",
       "      <th>9998</th>\n",
       "      <td>40.777342</td>\n",
       "      <td>-73.957242</td>\n",
       "      <td>5.7</td>\n",
       "      <td>1</td>\n",
       "      <td>CASH</td>\n",
       "      <td>40.773828</td>\n",
       "      <td>-73.956690</td>\n",
       "      <td>0.0</td>\n",
       "      <td>0.00</td>\n",
       "      <td>6.20</td>\n",
       "      <td>0.97</td>\n",
       "      <td>2009-06-17 04:19:00+00:00</td>\n",
       "      <td>2009-06-17 04:13:00+00:00</td>\n",
       "      <td>0.5</td>\n",
       "      <td>VTS</td>\n",
       "      <td>1739309395.5686655</td>\n",
       "      <td>IM1oZtIZTlvvzg</td>\n",
       "      <td>NaN</td>\n",
       "    </tr>\n",
       "    <tr>\n",
       "      <th>9999</th>\n",
       "      <td>40.757122</td>\n",
       "      <td>-73.986293</td>\n",
       "      <td>6.5</td>\n",
       "      <td>1</td>\n",
       "      <td>Credit</td>\n",
       "      <td>40.756313</td>\n",
       "      <td>-73.972948</td>\n",
       "      <td>2.0</td>\n",
       "      <td>0.00</td>\n",
       "      <td>8.50</td>\n",
       "      <td>0.92</td>\n",
       "      <td>2009-06-17 08:34:00+00:00</td>\n",
       "      <td>2009-06-17 08:24:00+00:00</td>\n",
       "      <td>0.0</td>\n",
       "      <td>VTS</td>\n",
       "      <td>1739309395.5686655</td>\n",
       "      <td>5QPzuoHuZeFJvw</td>\n",
       "      <td>NaN</td>\n",
       "    </tr>\n",
       "  </tbody>\n",
       "</table>\n",
       "<p>10000 rows × 18 columns</p>\n",
       "</div>"
      ],
      "text/plain": [
       "        end_lat    end_lon  ...         _dlt_id  store_and_forward\n",
       "0     40.742963 -73.980072  ...  yAmyKcJm/zm6Rg                NaN\n",
       "1     40.740187 -74.005698  ...  cqoNX1QSepVWBQ                NaN\n",
       "2     40.718043 -74.004745  ...  po80taABH4vZ2g                NaN\n",
       "3     40.739637 -73.985233  ...  QlFlm/zMFPuINg                NaN\n",
       "4     40.730032 -73.852693  ...  h/v7Nja59JfsbA                NaN\n",
       "...         ...        ...  ...             ...                ...\n",
       "9995  40.783522 -73.970690  ...  0FAAwkiSOcGzKg                NaN\n",
       "9996  40.777200 -73.964197  ...  wVnOApUBcjr07w                NaN\n",
       "9997  40.780172 -73.957617  ...  12Rmx/hj2I1gYg                NaN\n",
       "9998  40.777342 -73.957242  ...  IM1oZtIZTlvvzg                NaN\n",
       "9999  40.757122 -73.986293  ...  5QPzuoHuZeFJvw                NaN\n",
       "\n",
       "[10000 rows x 18 columns]"
      ]
     },
     "execution_count": 18,
     "metadata": {},
     "output_type": "execute_result"
    }
   ],
   "source": [
    "import dlt\n",
    "from dlt.sources.helpers.rest_client import RESTClient\n",
    "from dlt.sources.helpers.rest_client.paginators import PageNumberPaginator\n",
    "\n",
    "\n",
    "# Define the API resource for NYC taxi data\n",
    "@dlt.resource(name=\"rides\")   # <--- The name of the resource (will be used as the table name)\n",
    "def ny_taxi():\n",
    "    client = RESTClient(\n",
    "        base_url=\"https://us-central1-dlthub-analytics.cloudfunctions.net\",\n",
    "        paginator=PageNumberPaginator(\n",
    "            base_page=1,\n",
    "            total_path=None\n",
    "        )\n",
    "    )\n",
    "\n",
    "    for page in client.paginate(\"data_engineering_zoomcamp_api\"):    # <--- API endpoint for retrieving taxi ride data\n",
    "        yield page   # <--- yield data to manage memory\n",
    "\n",
    "\n",
    "# define new dlt pipeline\n",
    "pipeline = dlt.pipeline(destination=\"duckdb\")\n",
    "\n",
    "\n",
    "# run the pipeline with the new resource\n",
    "load_info = pipeline.run(ny_taxi, write_disposition=\"replace\")\n",
    "print(load_info)\n",
    "\n",
    "\n",
    "# explore loaded data\n",
    "pipeline.dataset(dataset_type=\"default\").rides.df()"
   ]
  },
  {
   "cell_type": "code",
   "execution_count": null,
   "metadata": {
    "application/vnd.databricks.v1+cell": {
     "cellMetadata": {
      "byteLimit": 2048000,
      "rowLimit": 10000
     },
     "inputWidgets": {},
     "nuid": "8f4d4ddc-51b9-4051-a25a-150e284d52ea",
     "showTitle": false,
     "tableResultSettingsMap": {},
     "title": ""
    }
   },
   "outputs": [
    {
     "data": {
      "text/html": [
       "<div>\n",
       "<style scoped>\n",
       "    .dataframe tbody tr th:only-of-type {\n",
       "        vertical-align: middle;\n",
       "    }\n",
       "\n",
       "    .dataframe tbody tr th {\n",
       "        vertical-align: top;\n",
       "    }\n",
       "\n",
       "    .dataframe thead th {\n",
       "        text-align: right;\n",
       "    }\n",
       "</style>\n",
       "<table border=\"1\" class=\"dataframe\">\n",
       "  <thead>\n",
       "    <tr style=\"text-align: right;\">\n",
       "      <th></th>\n",
       "      <th>database</th>\n",
       "      <th>schema</th>\n",
       "      <th>name</th>\n",
       "      <th>column_names</th>\n",
       "      <th>column_types</th>\n",
       "      <th>temporary</th>\n",
       "    </tr>\n",
       "  </thead>\n",
       "  <tbody>\n",
       "    <tr>\n",
       "      <th>0</th>\n",
       "      <td>dlt_db_ipykernel_launcher</td>\n",
       "      <td>dlt_db_ipykernel_launcher_dataset</td>\n",
       "      <td>_dlt_loads</td>\n",
       "      <td>[load_id, schema_name, status, inserted_at, sc...</td>\n",
       "      <td>[VARCHAR, VARCHAR, BIGINT, TIMESTAMP WITH TIME...</td>\n",
       "      <td>False</td>\n",
       "    </tr>\n",
       "    <tr>\n",
       "      <th>1</th>\n",
       "      <td>dlt_db_ipykernel_launcher</td>\n",
       "      <td>dlt_db_ipykernel_launcher_dataset</td>\n",
       "      <td>_dlt_pipeline_state</td>\n",
       "      <td>[version, engine_version, pipeline_name, state...</td>\n",
       "      <td>[BIGINT, BIGINT, VARCHAR, VARCHAR, TIMESTAMP W...</td>\n",
       "      <td>False</td>\n",
       "    </tr>\n",
       "    <tr>\n",
       "      <th>2</th>\n",
       "      <td>dlt_db_ipykernel_launcher</td>\n",
       "      <td>dlt_db_ipykernel_launcher_dataset</td>\n",
       "      <td>_dlt_version</td>\n",
       "      <td>[version, engine_version, inserted_at, schema_...</td>\n",
       "      <td>[BIGINT, BIGINT, TIMESTAMP WITH TIME ZONE, VAR...</td>\n",
       "      <td>False</td>\n",
       "    </tr>\n",
       "    <tr>\n",
       "      <th>3</th>\n",
       "      <td>dlt_db_ipykernel_launcher</td>\n",
       "      <td>dlt_db_ipykernel_launcher_dataset</td>\n",
       "      <td>rides</td>\n",
       "      <td>[end_lat, end_lon, fare_amt, passenger_count, ...</td>\n",
       "      <td>[DOUBLE, DOUBLE, DOUBLE, BIGINT, VARCHAR, DOUB...</td>\n",
       "      <td>False</td>\n",
       "    </tr>\n",
       "  </tbody>\n",
       "</table>\n",
       "</div>"
      ],
      "text/plain": [
       "                    database  ... temporary\n",
       "0  dlt_db_ipykernel_launcher  ...     False\n",
       "1  dlt_db_ipykernel_launcher  ...     False\n",
       "2  dlt_db_ipykernel_launcher  ...     False\n",
       "3  dlt_db_ipykernel_launcher  ...     False\n",
       "\n",
       "[4 rows x 6 columns]"
      ]
     },
     "execution_count": 20,
     "metadata": {},
     "output_type": "execute_result"
    }
   ],
   "source": [
    "import duckdb\n",
    "#from google.colab import data_table\n",
    "#data_table.enable_dataframe_formatter()\n",
    "\n",
    "# A database '<pipeline_name>.duckdb' was created in working directory so just connect to it\n",
    "\n",
    "# Connect to the DuckDB database\n",
    "conn = duckdb.connect(f\"{pipeline.pipeline_name}.duckdb\")\n",
    "\n",
    "# Set search path to the dataset\n",
    "conn.sql(f\"SET search_path = '{pipeline.dataset_name}'\")\n",
    "\n",
    "# Describe the dataset\n",
    "conn.sql(\"DESCRIBE\").df()"
   ]
  },
  {
   "cell_type": "code",
   "execution_count": null,
   "metadata": {
    "application/vnd.databricks.v1+cell": {
     "cellMetadata": {
      "byteLimit": 2048000,
      "rowLimit": 10000
     },
     "inputWidgets": {},
     "nuid": "d8dc9735-fa0e-4509-b5a9-1e7f90af90d3",
     "showTitle": false,
     "tableResultSettingsMap": {},
     "title": ""
    }
   },
   "outputs": [
    {
     "data": {
      "text/html": [
       "<div>\n",
       "<style scoped>\n",
       "    .dataframe tbody tr th:only-of-type {\n",
       "        vertical-align: middle;\n",
       "    }\n",
       "\n",
       "    .dataframe tbody tr th {\n",
       "        vertical-align: top;\n",
       "    }\n",
       "\n",
       "    .dataframe thead th {\n",
       "        text-align: right;\n",
       "    }\n",
       "</style>\n",
       "<table border=\"1\" class=\"dataframe\">\n",
       "  <thead>\n",
       "    <tr style=\"text-align: right;\">\n",
       "      <th></th>\n",
       "      <th>column_name</th>\n",
       "      <th>column_type</th>\n",
       "      <th>null</th>\n",
       "      <th>key</th>\n",
       "      <th>default</th>\n",
       "      <th>extra</th>\n",
       "    </tr>\n",
       "  </thead>\n",
       "  <tbody>\n",
       "    <tr>\n",
       "      <th>0</th>\n",
       "      <td>end_lat</td>\n",
       "      <td>DOUBLE</td>\n",
       "      <td>YES</td>\n",
       "      <td>None</td>\n",
       "      <td>None</td>\n",
       "      <td>None</td>\n",
       "    </tr>\n",
       "    <tr>\n",
       "      <th>1</th>\n",
       "      <td>end_lon</td>\n",
       "      <td>DOUBLE</td>\n",
       "      <td>YES</td>\n",
       "      <td>None</td>\n",
       "      <td>None</td>\n",
       "      <td>None</td>\n",
       "    </tr>\n",
       "    <tr>\n",
       "      <th>2</th>\n",
       "      <td>fare_amt</td>\n",
       "      <td>DOUBLE</td>\n",
       "      <td>YES</td>\n",
       "      <td>None</td>\n",
       "      <td>None</td>\n",
       "      <td>None</td>\n",
       "    </tr>\n",
       "    <tr>\n",
       "      <th>3</th>\n",
       "      <td>passenger_count</td>\n",
       "      <td>BIGINT</td>\n",
       "      <td>YES</td>\n",
       "      <td>None</td>\n",
       "      <td>None</td>\n",
       "      <td>None</td>\n",
       "    </tr>\n",
       "    <tr>\n",
       "      <th>4</th>\n",
       "      <td>payment_type</td>\n",
       "      <td>VARCHAR</td>\n",
       "      <td>YES</td>\n",
       "      <td>None</td>\n",
       "      <td>None</td>\n",
       "      <td>None</td>\n",
       "    </tr>\n",
       "    <tr>\n",
       "      <th>5</th>\n",
       "      <td>start_lat</td>\n",
       "      <td>DOUBLE</td>\n",
       "      <td>YES</td>\n",
       "      <td>None</td>\n",
       "      <td>None</td>\n",
       "      <td>None</td>\n",
       "    </tr>\n",
       "    <tr>\n",
       "      <th>6</th>\n",
       "      <td>start_lon</td>\n",
       "      <td>DOUBLE</td>\n",
       "      <td>YES</td>\n",
       "      <td>None</td>\n",
       "      <td>None</td>\n",
       "      <td>None</td>\n",
       "    </tr>\n",
       "    <tr>\n",
       "      <th>7</th>\n",
       "      <td>tip_amt</td>\n",
       "      <td>DOUBLE</td>\n",
       "      <td>YES</td>\n",
       "      <td>None</td>\n",
       "      <td>None</td>\n",
       "      <td>None</td>\n",
       "    </tr>\n",
       "    <tr>\n",
       "      <th>8</th>\n",
       "      <td>tolls_amt</td>\n",
       "      <td>DOUBLE</td>\n",
       "      <td>YES</td>\n",
       "      <td>None</td>\n",
       "      <td>None</td>\n",
       "      <td>None</td>\n",
       "    </tr>\n",
       "    <tr>\n",
       "      <th>9</th>\n",
       "      <td>total_amt</td>\n",
       "      <td>DOUBLE</td>\n",
       "      <td>YES</td>\n",
       "      <td>None</td>\n",
       "      <td>None</td>\n",
       "      <td>None</td>\n",
       "    </tr>\n",
       "    <tr>\n",
       "      <th>10</th>\n",
       "      <td>trip_distance</td>\n",
       "      <td>DOUBLE</td>\n",
       "      <td>YES</td>\n",
       "      <td>None</td>\n",
       "      <td>None</td>\n",
       "      <td>None</td>\n",
       "    </tr>\n",
       "    <tr>\n",
       "      <th>11</th>\n",
       "      <td>trip_dropoff_date_time</td>\n",
       "      <td>TIMESTAMP WITH TIME ZONE</td>\n",
       "      <td>YES</td>\n",
       "      <td>None</td>\n",
       "      <td>None</td>\n",
       "      <td>None</td>\n",
       "    </tr>\n",
       "    <tr>\n",
       "      <th>12</th>\n",
       "      <td>trip_pickup_date_time</td>\n",
       "      <td>TIMESTAMP WITH TIME ZONE</td>\n",
       "      <td>YES</td>\n",
       "      <td>None</td>\n",
       "      <td>None</td>\n",
       "      <td>None</td>\n",
       "    </tr>\n",
       "    <tr>\n",
       "      <th>13</th>\n",
       "      <td>surcharge</td>\n",
       "      <td>DOUBLE</td>\n",
       "      <td>YES</td>\n",
       "      <td>None</td>\n",
       "      <td>None</td>\n",
       "      <td>None</td>\n",
       "    </tr>\n",
       "    <tr>\n",
       "      <th>14</th>\n",
       "      <td>vendor_name</td>\n",
       "      <td>VARCHAR</td>\n",
       "      <td>YES</td>\n",
       "      <td>None</td>\n",
       "      <td>None</td>\n",
       "      <td>None</td>\n",
       "    </tr>\n",
       "    <tr>\n",
       "      <th>15</th>\n",
       "      <td>_dlt_load_id</td>\n",
       "      <td>VARCHAR</td>\n",
       "      <td>NO</td>\n",
       "      <td>None</td>\n",
       "      <td>None</td>\n",
       "      <td>None</td>\n",
       "    </tr>\n",
       "    <tr>\n",
       "      <th>16</th>\n",
       "      <td>_dlt_id</td>\n",
       "      <td>VARCHAR</td>\n",
       "      <td>NO</td>\n",
       "      <td>None</td>\n",
       "      <td>None</td>\n",
       "      <td>None</td>\n",
       "    </tr>\n",
       "    <tr>\n",
       "      <th>17</th>\n",
       "      <td>store_and_forward</td>\n",
       "      <td>DOUBLE</td>\n",
       "      <td>YES</td>\n",
       "      <td>None</td>\n",
       "      <td>None</td>\n",
       "      <td>None</td>\n",
       "    </tr>\n",
       "  </tbody>\n",
       "</table>\n",
       "</div>"
      ],
      "text/plain": [
       "               column_name               column_type null   key default extra\n",
       "0                  end_lat                    DOUBLE  YES  None    None  None\n",
       "1                  end_lon                    DOUBLE  YES  None    None  None\n",
       "2                 fare_amt                    DOUBLE  YES  None    None  None\n",
       "3          passenger_count                    BIGINT  YES  None    None  None\n",
       "4             payment_type                   VARCHAR  YES  None    None  None\n",
       "5                start_lat                    DOUBLE  YES  None    None  None\n",
       "6                start_lon                    DOUBLE  YES  None    None  None\n",
       "7                  tip_amt                    DOUBLE  YES  None    None  None\n",
       "8                tolls_amt                    DOUBLE  YES  None    None  None\n",
       "9                total_amt                    DOUBLE  YES  None    None  None\n",
       "10           trip_distance                    DOUBLE  YES  None    None  None\n",
       "11  trip_dropoff_date_time  TIMESTAMP WITH TIME ZONE  YES  None    None  None\n",
       "12   trip_pickup_date_time  TIMESTAMP WITH TIME ZONE  YES  None    None  None\n",
       "13               surcharge                    DOUBLE  YES  None    None  None\n",
       "14             vendor_name                   VARCHAR  YES  None    None  None\n",
       "15            _dlt_load_id                   VARCHAR   NO  None    None  None\n",
       "16                 _dlt_id                   VARCHAR   NO  None    None  None\n",
       "17       store_and_forward                    DOUBLE  YES  None    None  None"
      ]
     },
     "execution_count": 26,
     "metadata": {},
     "output_type": "execute_result"
    }
   ],
   "source": [
    "conn.sql(\"DESCRIBE rides\").df()"
   ]
  },
  {
   "cell_type": "code",
   "execution_count": null,
   "metadata": {
    "application/vnd.databricks.v1+cell": {
     "cellMetadata": {
      "byteLimit": 2048000,
      "rowLimit": 10000
     },
     "inputWidgets": {},
     "nuid": "7cbe0cc6-fb2c-4aad-b296-9d1cb6a756b6",
     "showTitle": false,
     "tableResultSettingsMap": {},
     "title": ""
    }
   },
   "outputs": [
    {
     "data": {
      "text/html": [
       "<div>\n",
       "<style scoped>\n",
       "    .dataframe tbody tr th:only-of-type {\n",
       "        vertical-align: middle;\n",
       "    }\n",
       "\n",
       "    .dataframe tbody tr th {\n",
       "        vertical-align: top;\n",
       "    }\n",
       "\n",
       "    .dataframe thead th {\n",
       "        text-align: right;\n",
       "    }\n",
       "</style>\n",
       "<table border=\"1\" class=\"dataframe\">\n",
       "  <thead>\n",
       "    <tr style=\"text-align: right;\">\n",
       "      <th></th>\n",
       "      <th>database</th>\n",
       "      <th>schema</th>\n",
       "      <th>name</th>\n",
       "      <th>column_names</th>\n",
       "      <th>column_types</th>\n",
       "      <th>temporary</th>\n",
       "    </tr>\n",
       "  </thead>\n",
       "  <tbody>\n",
       "    <tr>\n",
       "      <th>0</th>\n",
       "      <td>dlt_db_ipykernel_launcher</td>\n",
       "      <td>dlt_db_ipykernel_launcher_dataset</td>\n",
       "      <td>_dlt_loads</td>\n",
       "      <td>[load_id, schema_name, status, inserted_at, sc...</td>\n",
       "      <td>[VARCHAR, VARCHAR, BIGINT, TIMESTAMP WITH TIME...</td>\n",
       "      <td>False</td>\n",
       "    </tr>\n",
       "    <tr>\n",
       "      <th>1</th>\n",
       "      <td>dlt_db_ipykernel_launcher</td>\n",
       "      <td>dlt_db_ipykernel_launcher_dataset</td>\n",
       "      <td>_dlt_pipeline_state</td>\n",
       "      <td>[version, engine_version, pipeline_name, state...</td>\n",
       "      <td>[BIGINT, BIGINT, VARCHAR, VARCHAR, TIMESTAMP W...</td>\n",
       "      <td>False</td>\n",
       "    </tr>\n",
       "    <tr>\n",
       "      <th>2</th>\n",
       "      <td>dlt_db_ipykernel_launcher</td>\n",
       "      <td>dlt_db_ipykernel_launcher_dataset</td>\n",
       "      <td>_dlt_version</td>\n",
       "      <td>[version, engine_version, inserted_at, schema_...</td>\n",
       "      <td>[BIGINT, BIGINT, TIMESTAMP WITH TIME ZONE, VAR...</td>\n",
       "      <td>False</td>\n",
       "    </tr>\n",
       "    <tr>\n",
       "      <th>3</th>\n",
       "      <td>dlt_db_ipykernel_launcher</td>\n",
       "      <td>dlt_db_ipykernel_launcher_dataset</td>\n",
       "      <td>rides</td>\n",
       "      <td>[end_lat, end_lon, fare_amt, passenger_count, ...</td>\n",
       "      <td>[DOUBLE, DOUBLE, DOUBLE, BIGINT, VARCHAR, DOUB...</td>\n",
       "      <td>False</td>\n",
       "    </tr>\n",
       "  </tbody>\n",
       "</table>\n",
       "</div>"
      ],
      "text/plain": [
       "                    database  ... temporary\n",
       "0  dlt_db_ipykernel_launcher  ...     False\n",
       "1  dlt_db_ipykernel_launcher  ...     False\n",
       "2  dlt_db_ipykernel_launcher  ...     False\n",
       "3  dlt_db_ipykernel_launcher  ...     False\n",
       "\n",
       "[4 rows x 6 columns]"
      ]
     },
     "execution_count": 27,
     "metadata": {},
     "output_type": "execute_result"
    }
   ],
   "source": [
    "conn.sql(\"SHOW ALL TABLES\").df()"
   ]
  },
  {
   "cell_type": "markdown",
   "metadata": {
    "application/vnd.databricks.v1+cell": {
     "cellMetadata": {},
     "inputWidgets": {},
     "nuid": "93d84614-e980-48e5-8231-e250088766b4",
     "showTitle": false,
     "tableResultSettingsMap": {},
     "title": ""
    }
   },
   "source": [
    "How many tables were created? <br>\n",
    "Answer2 -- It looks like **4** tables were created <br>\n",
    "\n",
    "Question 3: Explore the loaded data"
   ]
  },
  {
   "cell_type": "code",
   "execution_count": null,
   "metadata": {
    "application/vnd.databricks.v1+cell": {
     "cellMetadata": {
      "byteLimit": 2048000,
      "rowLimit": 10000
     },
     "inputWidgets": {},
     "nuid": "3b7697c0-d399-402c-a1b2-8a3f9fd7c9da",
     "showTitle": false,
     "tableResultSettingsMap": {},
     "title": ""
    }
   },
   "outputs": [],
   "source": [
    "df = pipeline.dataset(dataset_type=\"default\").rides.df()\n"
   ]
  },
  {
   "cell_type": "code",
   "execution_count": null,
   "metadata": {
    "application/vnd.databricks.v1+cell": {
     "cellMetadata": {
      "byteLimit": 2048000,
      "rowLimit": 10000
     },
     "inputWidgets": {},
     "nuid": "ce84f408-5ac0-4b64-b5ef-30a04ec81a50",
     "showTitle": false,
     "tableResultSettingsMap": {},
     "title": ""
    }
   },
   "outputs": [
    {
     "data": {
      "text/plain": [
       "(10000, 18)"
      ]
     },
     "execution_count": 62,
     "metadata": {},
     "output_type": "execute_result"
    }
   ],
   "source": [
    "df.shape"
   ]
  },
  {
   "cell_type": "markdown",
   "metadata": {
    "application/vnd.databricks.v1+cell": {
     "cellMetadata": {},
     "inputWidgets": {},
     "nuid": "d9d67a1f-0d4f-4a28-992d-9c07cb6e9b8d",
     "showTitle": false,
     "tableResultSettingsMap": {},
     "title": ""
    }
   },
   "source": [
    "What is the total number of records extracted? <br>\n",
    "\n",
    "Answer3 :**10000**\n",
    "\n",
    "Question 4: Trip Duration Analysis\n",
    "Run the SQL query below to:\n",
    "\n",
    "Calculate the average trip duration in minutes."
   ]
  },
  {
   "cell_type": "code",
   "execution_count": null,
   "metadata": {
    "application/vnd.databricks.v1+cell": {
     "cellMetadata": {
      "byteLimit": 2048000,
      "rowLimit": 10000
     },
     "inputWidgets": {},
     "nuid": "011f0f0e-3a0d-44cf-a217-3cc5aa4985eb",
     "showTitle": false,
     "tableResultSettingsMap": {},
     "title": ""
    }
   },
   "outputs": [
    {
     "name": "stdout",
     "output_type": "stream",
     "text": [
      "[(12.3049,)]\n"
     ]
    }
   ],
   "source": [
    "with pipeline.sql_client() as client:\n",
    "    res = client.execute_sql(\n",
    "            \"\"\"\n",
    "            SELECT\n",
    "            AVG(date_diff('minute', trip_pickup_date_time, trip_dropoff_date_time))\n",
    "            FROM rides;\n",
    "            \"\"\"\n",
    "        )\n",
    "    # Prints column values of the first row\n",
    "    print(res)"
   ]
  },
  {
   "cell_type": "markdown",
   "metadata": {
    "application/vnd.databricks.v1+cell": {
     "cellMetadata": {},
     "inputWidgets": {},
     "nuid": "1c96b28b-b75d-45a4-8e4a-f7e5d86f5b5e",
     "showTitle": false,
     "tableResultSettingsMap": {},
     "title": ""
    }
   },
   "source": [
    "What is the average trip duration? <br>\n",
    "\n",
    "Answer 4 = **12.309**"
   ]
  }
 ],
 "metadata": {
  "application/vnd.databricks.v1+notebook": {
   "computePreferences": null,
   "dashboards": [],
   "environmentMetadata": {
    "base_environment": "",
    "environment_version": "2"
   },
   "language": "python",
   "notebookMetadata": {
    "pythonIndentUnit": 4
   },
   "notebookName": "dltpipeline",
   "widgets": {}
  },
  "kernelspec": {
   "display_name": "Python 3 (ipykernel)",
   "language": "python",
   "name": "python3"
  },
  "language_info": {
   "codemirror_mode": {
    "name": "ipython",
    "version": 3
   },
   "file_extension": ".py",
   "mimetype": "text/x-python",
   "name": "python",
   "nbconvert_exporter": "python",
   "pygments_lexer": "ipython3",
   "version": "3.12.8"
  }
 },
 "nbformat": 4,
 "nbformat_minor": 4
}
